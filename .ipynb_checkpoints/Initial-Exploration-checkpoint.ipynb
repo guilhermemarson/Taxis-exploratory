{
 "cells": [
  {
   "cell_type": "code",
   "execution_count": 489,
   "metadata": {
    "collapsed": false
   },
   "outputs": [],
   "source": [
    "%matplotlib inline\n",
    "import pandas as pd\n",
    "pd.set_option('display.max_rows', 5)\n",
    "import seaborn as sns\n",
    "import matplotlib.pylab as plt\n",
    "plt.rcParams['figure.figsize'] = 7, 4\n",
    "import warnings\n",
    "warnings.filterwarnings('ignore')"
   ]
  },
  {
   "cell_type": "code",
   "execution_count": 490,
   "metadata": {
    "collapsed": false
   },
   "outputs": [],
   "source": [
    "df = pd.read_csv('./src/trip_data_8.csv', low_memory=False)"
   ]
  },
  {
   "cell_type": "code",
   "execution_count": 491,
   "metadata": {
    "collapsed": false
   },
   "outputs": [
    {
     "data": {
      "text/plain": [
       "(1261505, 14)"
      ]
     },
     "execution_count": 491,
     "metadata": {},
     "output_type": "execute_result"
    }
   ],
   "source": [
    "df.shape"
   ]
  },
  {
   "cell_type": "markdown",
   "metadata": {},
   "source": [
    "#### Vamos dropar os atributos desconhecidos: vendor_id e store_and_fwd_flag:"
   ]
  },
  {
   "cell_type": "code",
   "execution_count": 492,
   "metadata": {
    "collapsed": false
   },
   "outputs": [],
   "source": [
    "df.drop([' vendor_id', ' store_and_fwd_flag'], 1, inplace=True)"
   ]
  },
  {
   "cell_type": "code",
   "execution_count": 493,
   "metadata": {
    "collapsed": false
   },
   "outputs": [
    {
     "data": {
      "text/plain": [
       "(1261505, 12)"
      ]
     },
     "execution_count": 493,
     "metadata": {},
     "output_type": "execute_result"
    }
   ],
   "source": [
    "df.shape"
   ]
  },
  {
   "cell_type": "code",
   "execution_count": 494,
   "metadata": {
    "collapsed": false
   },
   "outputs": [
    {
     "data": {
      "text/html": [
       "<div>\n",
       "<table border=\"1\" class=\"dataframe\">\n",
       "  <thead>\n",
       "    <tr style=\"text-align: right;\">\n",
       "      <th></th>\n",
       "      <th>rate_code</th>\n",
       "      <th>passenger_count</th>\n",
       "      <th>trip_time_in_secs</th>\n",
       "      <th>trip_distance</th>\n",
       "      <th>pickup_longitude</th>\n",
       "      <th>pickup_latitude</th>\n",
       "      <th>dropoff_longitude</th>\n",
       "      <th>dropoff_latitude</th>\n",
       "    </tr>\n",
       "  </thead>\n",
       "  <tbody>\n",
       "    <tr>\n",
       "      <th>count</th>\n",
       "      <td>1.261505e+06</td>\n",
       "      <td>1.261505e+06</td>\n",
       "      <td>1.261505e+06</td>\n",
       "      <td>1.261505e+06</td>\n",
       "      <td>1.261505e+06</td>\n",
       "      <td>1.261505e+06</td>\n",
       "      <td>1.261503e+06</td>\n",
       "      <td>1.261503e+06</td>\n",
       "    </tr>\n",
       "    <tr>\n",
       "      <th>mean</th>\n",
       "      <td>1.036542e+00</td>\n",
       "      <td>1.903010e+00</td>\n",
       "      <td>8.175101e+02</td>\n",
       "      <td>5.500859e+01</td>\n",
       "      <td>-7.320948e+01</td>\n",
       "      <td>4.032947e+01</td>\n",
       "      <td>-7.312580e+01</td>\n",
       "      <td>4.028402e+01</td>\n",
       "    </tr>\n",
       "    <tr>\n",
       "      <th>...</th>\n",
       "      <td>...</td>\n",
       "      <td>...</td>\n",
       "      <td>...</td>\n",
       "      <td>...</td>\n",
       "      <td>...</td>\n",
       "      <td>...</td>\n",
       "      <td>...</td>\n",
       "      <td>...</td>\n",
       "    </tr>\n",
       "    <tr>\n",
       "      <th>75%</th>\n",
       "      <td>1.000000e+00</td>\n",
       "      <td>2.000000e+00</td>\n",
       "      <td>9.600000e+02</td>\n",
       "      <td>3.190000e+00</td>\n",
       "      <td>-7.396742e+01</td>\n",
       "      <td>4.076625e+01</td>\n",
       "      <td>-7.396512e+01</td>\n",
       "      <td>4.076643e+01</td>\n",
       "    </tr>\n",
       "    <tr>\n",
       "      <th>max</th>\n",
       "      <td>2.390000e+02</td>\n",
       "      <td>6.000000e+00</td>\n",
       "      <td>4.293410e+06</td>\n",
       "      <td>1.348017e+07</td>\n",
       "      <td>4.077343e+01</td>\n",
       "      <td>7.400605e+01</td>\n",
       "      <td>4.082298e+01</td>\n",
       "      <td>4.102000e+02</td>\n",
       "    </tr>\n",
       "  </tbody>\n",
       "</table>\n",
       "<p>8 rows × 8 columns</p>\n",
       "</div>"
      ],
      "text/plain": [
       "          rate_code   passenger_count   trip_time_in_secs   trip_distance  \\\n",
       "count  1.261505e+06      1.261505e+06        1.261505e+06    1.261505e+06   \n",
       "mean   1.036542e+00      1.903010e+00        8.175101e+02    5.500859e+01   \n",
       "...             ...               ...                 ...             ...   \n",
       "75%    1.000000e+00      2.000000e+00        9.600000e+02    3.190000e+00   \n",
       "max    2.390000e+02      6.000000e+00        4.293410e+06    1.348017e+07   \n",
       "\n",
       "        pickup_longitude   pickup_latitude   dropoff_longitude  \\\n",
       "count       1.261505e+06      1.261505e+06        1.261503e+06   \n",
       "mean       -7.320948e+01      4.032947e+01       -7.312580e+01   \n",
       "...                  ...               ...                 ...   \n",
       "75%        -7.396742e+01      4.076625e+01       -7.396512e+01   \n",
       "max         4.077343e+01      7.400605e+01        4.082298e+01   \n",
       "\n",
       "        dropoff_latitude  \n",
       "count       1.261503e+06  \n",
       "mean        4.028402e+01  \n",
       "...                  ...  \n",
       "75%         4.076643e+01  \n",
       "max         4.102000e+02  \n",
       "\n",
       "[8 rows x 8 columns]"
      ]
     },
     "execution_count": 494,
     "metadata": {},
     "output_type": "execute_result"
    }
   ],
   "source": [
    "df.describe()"
   ]
  },
  {
   "cell_type": "markdown",
   "metadata": {},
   "source": [
    "## Data Cleaning"
   ]
  },
  {
   "cell_type": "markdown",
   "metadata": {},
   "source": [
    "Vamos começar buscando os nulls"
   ]
  },
  {
   "cell_type": "code",
   "execution_count": 495,
   "metadata": {
    "collapsed": false
   },
   "outputs": [
    {
     "data": {
      "text/plain": [
       "medallion             0\n",
       " hack_license         0\n",
       " rate_code            0\n",
       " pickup_datetime      0\n",
       " dropoff_datetime     0\n",
       " passenger_count      0\n",
       " trip_time_in_secs    0\n",
       " trip_distance        0\n",
       " pickup_longitude     0\n",
       " pickup_latitude      0\n",
       " dropoff_longitude    2\n",
       " dropoff_latitude     2\n",
       "dtype: int64"
      ]
     },
     "execution_count": 495,
     "metadata": {},
     "output_type": "execute_result"
    }
   ],
   "source": [
    "pd.set_option('display.max_rows', 15)\n",
    "df.isnull().sum()"
   ]
  },
  {
   "cell_type": "code",
   "execution_count": 496,
   "metadata": {
    "collapsed": true
   },
   "outputs": [],
   "source": [
    "pd.set_option('display.max_rows', 5)"
   ]
  },
  {
   "cell_type": "code",
   "execution_count": 497,
   "metadata": {
    "collapsed": false
   },
   "outputs": [
    {
     "data": {
      "text/html": [
       "<div>\n",
       "<table border=\"1\" class=\"dataframe\">\n",
       "  <thead>\n",
       "    <tr style=\"text-align: right;\">\n",
       "      <th></th>\n",
       "      <th>medallion</th>\n",
       "      <th>hack_license</th>\n",
       "      <th>rate_code</th>\n",
       "      <th>pickup_datetime</th>\n",
       "      <th>dropoff_datetime</th>\n",
       "      <th>passenger_count</th>\n",
       "      <th>trip_time_in_secs</th>\n",
       "      <th>trip_distance</th>\n",
       "      <th>pickup_longitude</th>\n",
       "      <th>pickup_latitude</th>\n",
       "      <th>dropoff_longitude</th>\n",
       "      <th>dropoff_latitude</th>\n",
       "    </tr>\n",
       "  </thead>\n",
       "  <tbody>\n",
       "    <tr>\n",
       "      <th>328300</th>\n",
       "      <td>D1747389EAD9EB6EB0B30EE42D3B130D</td>\n",
       "      <td>AACE49C7D80767CFFEC0E513AE886DF0</td>\n",
       "      <td>0</td>\n",
       "      <td>2013-08-28 11:28:50</td>\n",
       "      <td>2013-08-28 11:28:50</td>\n",
       "      <td>0</td>\n",
       "      <td>0</td>\n",
       "      <td>0.00</td>\n",
       "      <td>-73.948677</td>\n",
       "      <td>40.744923</td>\n",
       "      <td>NaN</td>\n",
       "      <td>NaN</td>\n",
       "    </tr>\n",
       "    <tr>\n",
       "      <th>1261504</th>\n",
       "      <td>8D7BF8356EF4A676E1D83481A6CBF56F</td>\n",
       "      <td>609448857F72EDAE9BC6ED98970D4A41</td>\n",
       "      <td>1</td>\n",
       "      <td>2013-08-13 11:48:00</td>\n",
       "      <td>2013-08-13 12:12:00</td>\n",
       "      <td>5</td>\n",
       "      <td>1440</td>\n",
       "      <td>2.31</td>\n",
       "      <td>-73.982964</td>\n",
       "      <td>40.774250</td>\n",
       "      <td>NaN</td>\n",
       "      <td>NaN</td>\n",
       "    </tr>\n",
       "  </tbody>\n",
       "</table>\n",
       "</div>"
      ],
      "text/plain": [
       "                                medallion                      hack_license  \\\n",
       "328300   D1747389EAD9EB6EB0B30EE42D3B130D  AACE49C7D80767CFFEC0E513AE886DF0   \n",
       "1261504  8D7BF8356EF4A676E1D83481A6CBF56F  609448857F72EDAE9BC6ED98970D4A41   \n",
       "\n",
       "          rate_code      pickup_datetime     dropoff_datetime  \\\n",
       "328300            0  2013-08-28 11:28:50  2013-08-28 11:28:50   \n",
       "1261504           1  2013-08-13 11:48:00  2013-08-13 12:12:00   \n",
       "\n",
       "          passenger_count   trip_time_in_secs   trip_distance  \\\n",
       "328300                  0                   0            0.00   \n",
       "1261504                 5                1440            2.31   \n",
       "\n",
       "          pickup_longitude   pickup_latitude   dropoff_longitude  \\\n",
       "328300          -73.948677         40.744923                 NaN   \n",
       "1261504         -73.982964         40.774250                 NaN   \n",
       "\n",
       "          dropoff_latitude  \n",
       "328300                 NaN  \n",
       "1261504                NaN  "
      ]
     },
     "execution_count": 497,
     "metadata": {},
     "output_type": "execute_result"
    }
   ],
   "source": [
    "df.ix[df[' dropoff_longitude'].isnull()]"
   ]
  },
  {
   "cell_type": "code",
   "execution_count": 498,
   "metadata": {
    "collapsed": true
   },
   "outputs": [],
   "source": [
    "df = df.ix[df[' dropoff_longitude'].notnull()].reset_index(drop=True)"
   ]
  },
  {
   "cell_type": "code",
   "execution_count": 499,
   "metadata": {
    "collapsed": false
   },
   "outputs": [
    {
     "data": {
      "text/plain": [
       "1261503"
      ]
     },
     "execution_count": 499,
     "metadata": {},
     "output_type": "execute_result"
    }
   ],
   "source": [
    "len(df)"
   ]
  },
  {
   "cell_type": "markdown",
   "metadata": {},
   "source": [
    "### Como estamos analisando mobilidade em NY, não faz sentido manter as linhas em que a distância ou o tempo de viagem sejam 0. Sei que para alguns estudos essa informação pode ser útil, mas para o nosso caso em específico, não faz sentido"
   ]
  },
  {
   "cell_type": "markdown",
   "metadata": {},
   "source": [
    "Temos alguns tempos negativos também, então vamos limpá-los juntos"
   ]
  },
  {
   "cell_type": "code",
   "execution_count": 502,
   "metadata": {
    "collapsed": false
   },
   "outputs": [
    {
     "data": {
      "text/plain": [
       "5228"
      ]
     },
     "execution_count": 502,
     "metadata": {},
     "output_type": "execute_result"
    }
   ],
   "source": [
    "len(df.ix[df[' trip_time_in_secs']<=0])"
   ]
  },
  {
   "cell_type": "markdown",
   "metadata": {},
   "source": [
    "São 5228 linhas que não posso fazer muita coisa pois não tenho como inferir o tempo, então vou remover do df para não ter problemas futuros"
   ]
  },
  {
   "cell_type": "code",
   "execution_count": 503,
   "metadata": {
    "collapsed": false
   },
   "outputs": [],
   "source": [
    "df = df.ix[df[' trip_time_in_secs']>0].reset_index(drop=True)"
   ]
  },
  {
   "cell_type": "markdown",
   "metadata": {},
   "source": [
    "Agora farei o mesmo para distâncias <= 0"
   ]
  },
  {
   "cell_type": "code",
   "execution_count": 504,
   "metadata": {
    "collapsed": false
   },
   "outputs": [
    {
     "data": {
      "text/plain": [
       "1256275"
      ]
     },
     "execution_count": 504,
     "metadata": {},
     "output_type": "execute_result"
    }
   ],
   "source": [
    "len(df)"
   ]
  },
  {
   "cell_type": "code",
   "execution_count": 505,
   "metadata": {
    "collapsed": true
   },
   "outputs": [],
   "source": [
    "df = df.ix[df[' trip_distance']>0].reset_index(drop=True)"
   ]
  },
  {
   "cell_type": "markdown",
   "metadata": {},
   "source": [
    "Voltando ao trip time. Vamos olhar outliers"
   ]
  },
  {
   "cell_type": "code",
   "execution_count": 511,
   "metadata": {
    "collapsed": false
   },
   "outputs": [
    {
     "data": {
      "text/plain": [
       "43073     4293410\n",
       "177598    4293042\n",
       "           ...   \n",
       "360137          1\n",
       "223588          1\n",
       "Name:  trip_time_in_secs, dtype: int64"
      ]
     },
     "execution_count": 511,
     "metadata": {},
     "output_type": "execute_result"
    }
   ],
   "source": [
    "df[' trip_time_in_secs'].sort_values(ascending=False)"
   ]
  },
  {
   "cell_type": "markdown",
   "metadata": {},
   "source": [
    "Nós temos alguns tempos realmente longos e que parecem erros da base. Utilizar a fórmula padrão que diz que um outlier é um valor maior que o 3º quartil + 1.5*IQR não funciona pois temos algumas viagens que se descolam muito da mediana por terem distâncias longas."
   ]
  },
  {
   "cell_type": "code",
   "execution_count": 512,
   "metadata": {
    "collapsed": true
   },
   "outputs": [],
   "source": [
    "import numpy as np"
   ]
  },
  {
   "cell_type": "code",
   "execution_count": 513,
   "metadata": {
    "collapsed": true
   },
   "outputs": [],
   "source": [
    "iqr = np.subtract(*np.percentile(df[' trip_time_in_secs'], [75, 25]))"
   ]
  },
  {
   "cell_type": "code",
   "execution_count": 514,
   "metadata": {
    "collapsed": true
   },
   "outputs": [],
   "source": [
    "ThirdQuartile = np.percentile(df[' trip_time_in_secs'], 75)"
   ]
  },
  {
   "cell_type": "code",
   "execution_count": 515,
   "metadata": {
    "collapsed": false
   },
   "outputs": [
    {
     "data": {
      "text/plain": [
       "55445"
      ]
     },
     "execution_count": 515,
     "metadata": {},
     "output_type": "execute_result"
    }
   ],
   "source": [
    "len(df.ix[df[' trip_time_in_secs']>(ThirdQuartile+(1.5*iqr))].sort(columns=' trip_time_in_secs', ascending=True))"
   ]
  },
  {
   "cell_type": "markdown",
   "metadata": {},
   "source": [
    "Vamos remover os outliers aos poucos. Tempos com mais de 5 dígitos são claramente erros, então vamos removê-los"
   ]
  },
  {
   "cell_type": "code",
   "execution_count": 516,
   "metadata": {
    "collapsed": false,
    "scrolled": true
   },
   "outputs": [],
   "source": [
    "df = df.drop(df[(df[' trip_time_in_secs']>99999)].index).reset_index(drop=True)"
   ]
  },
  {
   "cell_type": "markdown",
   "metadata": {},
   "source": [
    "#### Vamos começar analisando o rate_code, para ver se todos são válidos, segundo o: http://www.nyc.gov/html/tlc/html/passenger/taxicab_rate.shtml"
   ]
  },
  {
   "cell_type": "code",
   "execution_count": 517,
   "metadata": {
    "collapsed": false,
    "scrolled": true
   },
   "outputs": [
    {
     "data": {
      "text/plain": [
       "1      1223279\n",
       "2        23616\n",
       "3         1989\n",
       "5         1685\n",
       "4          611\n",
       "0           30\n",
       "6            9\n",
       "200          1\n",
       "Name:  rate_code, dtype: int64"
      ]
     },
     "execution_count": 517,
     "metadata": {},
     "output_type": "execute_result"
    }
   ],
   "source": [
    "pd.set_option('display.max_rows', 12)\n",
    "df[' rate_code'].value_counts()"
   ]
  },
  {
   "cell_type": "markdown",
   "metadata": {},
   "source": [
    "#### Como pode ser visto acima, alguns valores do rate_code não são válidos. Esses valores são: 200 e 0 . O número de ocorrências é bem pequeno comparado ao tamanho total da amostra de dados. Por este motivo e pela falta de tempo, não criarei uma função que utilizaria o geopy para identificar o ponto de saída e chegada, além da hora para classificar a tarifa corretamente. Neste momento eu vou simplesmente descartar essas linhas"
   ]
  },
  {
   "cell_type": "code",
   "execution_count": 518,
   "metadata": {
    "collapsed": true
   },
   "outputs": [],
   "source": [
    "pd.set_option('display.max_rows', 8)"
   ]
  },
  {
   "cell_type": "code",
   "execution_count": 519,
   "metadata": {
    "collapsed": false
   },
   "outputs": [],
   "source": [
    "df = df.ix[df[' rate_code'].isin([1,2,3,4,5,6]),:].reset_index(drop=True)"
   ]
  },
  {
   "cell_type": "code",
   "execution_count": 520,
   "metadata": {
    "collapsed": false
   },
   "outputs": [
    {
     "data": {
      "text/plain": [
       "(1251189, 12)"
      ]
     },
     "execution_count": 520,
     "metadata": {},
     "output_type": "execute_result"
    }
   ],
   "source": [
    "df.shape"
   ]
  },
  {
   "cell_type": "code",
   "execution_count": 529,
   "metadata": {
    "collapsed": false
   },
   "outputs": [
    {
     "name": "stdout",
     "output_type": "stream",
     "text": [
      "Mediana: 1.76 \n",
      "Média: 2.9540091582618686\n"
     ]
    }
   ],
   "source": [
    "print('Mediana: ' + str(df[' trip_distance'].median()) + ' \\nMédia: '+ str(df[' trip_distance'].mean()))"
   ]
  },
  {
   "cell_type": "markdown",
   "metadata": {},
   "source": [
    "Como podemos ver acima a mediana se descola muito da média, que é bem maior, mostrando que nós temos alguns outliers nas distâncias. Por este motivo, vamos olhar um pouco melhor essas grandes distâncias. "
   ]
  },
  {
   "cell_type": "code",
   "execution_count": 522,
   "metadata": {
    "collapsed": false
   },
   "outputs": [
    {
     "data": {
      "text/html": [
       "<div>\n",
       "<table border=\"1\" class=\"dataframe\">\n",
       "  <thead>\n",
       "    <tr style=\"text-align: right;\">\n",
       "      <th></th>\n",
       "      <th>medallion</th>\n",
       "      <th>hack_license</th>\n",
       "      <th>rate_code</th>\n",
       "      <th>pickup_datetime</th>\n",
       "      <th>dropoff_datetime</th>\n",
       "      <th>passenger_count</th>\n",
       "      <th>trip_time_in_secs</th>\n",
       "      <th>trip_distance</th>\n",
       "      <th>pickup_longitude</th>\n",
       "      <th>pickup_latitude</th>\n",
       "      <th>dropoff_longitude</th>\n",
       "      <th>dropoff_latitude</th>\n",
       "    </tr>\n",
       "  </thead>\n",
       "  <tbody>\n",
       "    <tr>\n",
       "      <th>329560</th>\n",
       "      <td>3DCFC9097488D3F93982ED4A899C6E24</td>\n",
       "      <td>0B21B07994F53C937E2687A81488A3C5</td>\n",
       "      <td>1</td>\n",
       "      <td>2013-08-26 06:31:35</td>\n",
       "      <td>2013-08-26 06:44:00</td>\n",
       "      <td>1</td>\n",
       "      <td>745</td>\n",
       "      <td>13480170.0</td>\n",
       "      <td>-73.980377</td>\n",
       "      <td>40.732262</td>\n",
       "      <td>-74.011780</td>\n",
       "      <td>40.715099</td>\n",
       "    </tr>\n",
       "    <tr>\n",
       "      <th>329493</th>\n",
       "      <td>A6FEF39DB6A3DE3893DAABB98E46C8DC</td>\n",
       "      <td>D5EDBD218A9831DE3ECC458B8E2DC608</td>\n",
       "      <td>1</td>\n",
       "      <td>2013-08-31 16:15:32</td>\n",
       "      <td>2013-08-31 16:48:48</td>\n",
       "      <td>2</td>\n",
       "      <td>1996</td>\n",
       "      <td>12000000.0</td>\n",
       "      <td>-73.982048</td>\n",
       "      <td>40.780254</td>\n",
       "      <td>-73.994362</td>\n",
       "      <td>40.761311</td>\n",
       "    </tr>\n",
       "    <tr>\n",
       "      <th>362481</th>\n",
       "      <td>A6FEF39DB6A3DE3893DAABB98E46C8DC</td>\n",
       "      <td>D71585382E18358678091C2B98C548F0</td>\n",
       "      <td>1</td>\n",
       "      <td>2013-08-30 14:23:01</td>\n",
       "      <td>2013-08-30 14:38:28</td>\n",
       "      <td>1</td>\n",
       "      <td>927</td>\n",
       "      <td>11800001.0</td>\n",
       "      <td>-74.004601</td>\n",
       "      <td>40.706852</td>\n",
       "      <td>-73.974815</td>\n",
       "      <td>40.749310</td>\n",
       "    </tr>\n",
       "    <tr>\n",
       "      <th>164693</th>\n",
       "      <td>A9236AB56BD652C8450897CECC80C433</td>\n",
       "      <td>BC0B2E4616DF627759FA42A90A2CAD97</td>\n",
       "      <td>1</td>\n",
       "      <td>2013-08-26 03:30:41</td>\n",
       "      <td>2013-08-26 03:49:23</td>\n",
       "      <td>1</td>\n",
       "      <td>1121</td>\n",
       "      <td>8000014.5</td>\n",
       "      <td>-74.007790</td>\n",
       "      <td>40.741314</td>\n",
       "      <td>-73.945755</td>\n",
       "      <td>40.725468</td>\n",
       "    </tr>\n",
       "    <tr>\n",
       "      <th>359388</th>\n",
       "      <td>3DCFC9097488D3F93982ED4A899C6E24</td>\n",
       "      <td>0B21B07994F53C937E2687A81488A3C5</td>\n",
       "      <td>1</td>\n",
       "      <td>2013-08-27 12:23:52</td>\n",
       "      <td>2013-08-27 12:36:45</td>\n",
       "      <td>4</td>\n",
       "      <td>773</td>\n",
       "      <td>8000000.5</td>\n",
       "      <td>-73.980103</td>\n",
       "      <td>40.746334</td>\n",
       "      <td>-73.968636</td>\n",
       "      <td>40.754169</td>\n",
       "    </tr>\n",
       "    <tr>\n",
       "      <th>318895</th>\n",
       "      <td>A6FEF39DB6A3DE3893DAABB98E46C8DC</td>\n",
       "      <td>D5EDBD218A9831DE3ECC458B8E2DC608</td>\n",
       "      <td>1</td>\n",
       "      <td>2013-08-31 14:28:46</td>\n",
       "      <td>2013-08-31 16:14:07</td>\n",
       "      <td>3</td>\n",
       "      <td>1322</td>\n",
       "      <td>6747240.0</td>\n",
       "      <td>-73.991661</td>\n",
       "      <td>40.757942</td>\n",
       "      <td>-73.981613</td>\n",
       "      <td>40.781246</td>\n",
       "    </tr>\n",
       "    <tr>\n",
       "      <th>29414</th>\n",
       "      <td>EB549FD037CCC77B2744A49AACC2400F</td>\n",
       "      <td>E40656BFCF190E7BF1CE7C173325B172</td>\n",
       "      <td>1</td>\n",
       "      <td>2013-08-27 23:29:38</td>\n",
       "      <td>2013-08-27 23:52:32</td>\n",
       "      <td>2</td>\n",
       "      <td>1373</td>\n",
       "      <td>5005073.0</td>\n",
       "      <td>-73.960594</td>\n",
       "      <td>40.715412</td>\n",
       "      <td>-74.007011</td>\n",
       "      <td>40.741390</td>\n",
       "    </tr>\n",
       "    <tr>\n",
       "      <th>60003</th>\n",
       "      <td>EB549FD037CCC77B2744A49AACC2400F</td>\n",
       "      <td>EF53988270E9AC1A8B4AE4047B40456E</td>\n",
       "      <td>1</td>\n",
       "      <td>2013-08-31 12:15:20</td>\n",
       "      <td>2013-08-31 12:27:25</td>\n",
       "      <td>1</td>\n",
       "      <td>725</td>\n",
       "      <td>318000.0</td>\n",
       "      <td>-73.992714</td>\n",
       "      <td>40.747520</td>\n",
       "      <td>-73.959213</td>\n",
       "      <td>40.769131</td>\n",
       "    </tr>\n",
       "  </tbody>\n",
       "</table>\n",
       "</div>"
      ],
      "text/plain": [
       "                               medallion                      hack_license  \\\n",
       "329560  3DCFC9097488D3F93982ED4A899C6E24  0B21B07994F53C937E2687A81488A3C5   \n",
       "329493  A6FEF39DB6A3DE3893DAABB98E46C8DC  D5EDBD218A9831DE3ECC458B8E2DC608   \n",
       "362481  A6FEF39DB6A3DE3893DAABB98E46C8DC  D71585382E18358678091C2B98C548F0   \n",
       "164693  A9236AB56BD652C8450897CECC80C433  BC0B2E4616DF627759FA42A90A2CAD97   \n",
       "359388  3DCFC9097488D3F93982ED4A899C6E24  0B21B07994F53C937E2687A81488A3C5   \n",
       "318895  A6FEF39DB6A3DE3893DAABB98E46C8DC  D5EDBD218A9831DE3ECC458B8E2DC608   \n",
       "29414   EB549FD037CCC77B2744A49AACC2400F  E40656BFCF190E7BF1CE7C173325B172   \n",
       "60003   EB549FD037CCC77B2744A49AACC2400F  EF53988270E9AC1A8B4AE4047B40456E   \n",
       "\n",
       "         rate_code      pickup_datetime     dropoff_datetime  \\\n",
       "329560           1  2013-08-26 06:31:35  2013-08-26 06:44:00   \n",
       "329493           1  2013-08-31 16:15:32  2013-08-31 16:48:48   \n",
       "362481           1  2013-08-30 14:23:01  2013-08-30 14:38:28   \n",
       "164693           1  2013-08-26 03:30:41  2013-08-26 03:49:23   \n",
       "359388           1  2013-08-27 12:23:52  2013-08-27 12:36:45   \n",
       "318895           1  2013-08-31 14:28:46  2013-08-31 16:14:07   \n",
       "29414            1  2013-08-27 23:29:38  2013-08-27 23:52:32   \n",
       "60003            1  2013-08-31 12:15:20  2013-08-31 12:27:25   \n",
       "\n",
       "         passenger_count   trip_time_in_secs   trip_distance  \\\n",
       "329560                 1                 745      13480170.0   \n",
       "329493                 2                1996      12000000.0   \n",
       "362481                 1                 927      11800001.0   \n",
       "164693                 1                1121       8000014.5   \n",
       "359388                 4                 773       8000000.5   \n",
       "318895                 3                1322       6747240.0   \n",
       "29414                  2                1373       5005073.0   \n",
       "60003                  1                 725        318000.0   \n",
       "\n",
       "         pickup_longitude   pickup_latitude   dropoff_longitude  \\\n",
       "329560         -73.980377         40.732262          -74.011780   \n",
       "329493         -73.982048         40.780254          -73.994362   \n",
       "362481         -74.004601         40.706852          -73.974815   \n",
       "164693         -74.007790         40.741314          -73.945755   \n",
       "359388         -73.980103         40.746334          -73.968636   \n",
       "318895         -73.991661         40.757942          -73.981613   \n",
       "29414          -73.960594         40.715412          -74.007011   \n",
       "60003          -73.992714         40.747520          -73.959213   \n",
       "\n",
       "         dropoff_latitude  \n",
       "329560          40.715099  \n",
       "329493          40.761311  \n",
       "362481          40.749310  \n",
       "164693          40.725468  \n",
       "359388          40.754169  \n",
       "318895          40.781246  \n",
       "29414           40.741390  \n",
       "60003           40.769131  "
      ]
     },
     "execution_count": 522,
     "metadata": {},
     "output_type": "execute_result"
    }
   ],
   "source": [
    "df.sort(columns=' trip_distance', ascending=False).head(8)"
   ]
  },
  {
   "cell_type": "markdown",
   "metadata": {},
   "source": [
    "Sabemos que Velocidade=Distancia/tempo. A primeira observação acima nos dá uma velocidade de mais de 18k milhas/s. Nova York tem limites de 30mp/h nas ruas e 65mp/h nas estradas. Vamos achar e descartar os veículos que tiveram velocidade média acima de 100mp/h. Essas observações tem grandes chances de terem problemas no tempo, na distância ou em ambos"
   ]
  },
  {
   "cell_type": "code",
   "execution_count": 527,
   "metadata": {
    "collapsed": false
   },
   "outputs": [
    {
     "data": {
      "text/html": [
       "<div>\n",
       "<table border=\"1\" class=\"dataframe\">\n",
       "  <thead>\n",
       "    <tr style=\"text-align: right;\">\n",
       "      <th></th>\n",
       "      <th>medallion</th>\n",
       "      <th>hack_license</th>\n",
       "      <th>rate_code</th>\n",
       "      <th>pickup_datetime</th>\n",
       "      <th>dropoff_datetime</th>\n",
       "      <th>passenger_count</th>\n",
       "      <th>trip_time_in_secs</th>\n",
       "      <th>trip_distance</th>\n",
       "      <th>pickup_longitude</th>\n",
       "      <th>pickup_latitude</th>\n",
       "      <th>dropoff_longitude</th>\n",
       "      <th>dropoff_latitude</th>\n",
       "    </tr>\n",
       "  </thead>\n",
       "  <tbody>\n",
       "    <tr>\n",
       "      <th>676</th>\n",
       "      <td>8A6F61BD5F45066A5773A2AF58E113FF</td>\n",
       "      <td>7D35FAFCC77E7BE262098A6E960EDBA4</td>\n",
       "      <td>1</td>\n",
       "      <td>2013-08-27 12:27:02</td>\n",
       "      <td>2013-08-27 12:27:06</td>\n",
       "      <td>1</td>\n",
       "      <td>3</td>\n",
       "      <td>0.30</td>\n",
       "      <td>-73.996048</td>\n",
       "      <td>40.728649</td>\n",
       "      <td>-73.996536</td>\n",
       "      <td>40.728897</td>\n",
       "    </tr>\n",
       "    <tr>\n",
       "      <th>1075</th>\n",
       "      <td>A6086D46B46031992FE603D412D80F8E</td>\n",
       "      <td>0ADC15AAD39FA90CDFA958C79CD0FD33</td>\n",
       "      <td>1</td>\n",
       "      <td>2013-08-28 05:45:52</td>\n",
       "      <td>2013-08-28 05:46:21</td>\n",
       "      <td>1</td>\n",
       "      <td>28</td>\n",
       "      <td>0.80</td>\n",
       "      <td>-73.993149</td>\n",
       "      <td>40.749584</td>\n",
       "      <td>-73.994011</td>\n",
       "      <td>40.750130</td>\n",
       "    </tr>\n",
       "    <tr>\n",
       "      <th>1546</th>\n",
       "      <td>BCF3D4EBB257C316FA4B375A0A92FA0F</td>\n",
       "      <td>C6ECAC6C384169EDFE0E5F1E298E3F8A</td>\n",
       "      <td>1</td>\n",
       "      <td>2013-08-27 09:59:29</td>\n",
       "      <td>2013-08-27 09:59:32</td>\n",
       "      <td>1</td>\n",
       "      <td>2</td>\n",
       "      <td>0.50</td>\n",
       "      <td>-73.970284</td>\n",
       "      <td>40.806435</td>\n",
       "      <td>-73.970619</td>\n",
       "      <td>40.806004</td>\n",
       "    </tr>\n",
       "    <tr>\n",
       "      <th>4246</th>\n",
       "      <td>11AD539AEC155D68644C384188F4D961</td>\n",
       "      <td>BC01267D1B02FA153ADAE031BC9A605D</td>\n",
       "      <td>1</td>\n",
       "      <td>2013-08-28 20:29:15</td>\n",
       "      <td>2013-08-28 20:29:43</td>\n",
       "      <td>1</td>\n",
       "      <td>28</td>\n",
       "      <td>2.00</td>\n",
       "      <td>-73.987541</td>\n",
       "      <td>40.738194</td>\n",
       "      <td>-73.988174</td>\n",
       "      <td>40.738026</td>\n",
       "    </tr>\n",
       "    <tr>\n",
       "      <th>...</th>\n",
       "      <td>...</td>\n",
       "      <td>...</td>\n",
       "      <td>...</td>\n",
       "      <td>...</td>\n",
       "      <td>...</td>\n",
       "      <td>...</td>\n",
       "      <td>...</td>\n",
       "      <td>...</td>\n",
       "      <td>...</td>\n",
       "      <td>...</td>\n",
       "      <td>...</td>\n",
       "      <td>...</td>\n",
       "    </tr>\n",
       "    <tr>\n",
       "      <th>540655</th>\n",
       "      <td>02D98AA3CB447475FD0F3BA4C9D68BEB</td>\n",
       "      <td>2DD32B8EF147BB66D1EA431D25872781</td>\n",
       "      <td>2</td>\n",
       "      <td>2013-08-11 18:54:00</td>\n",
       "      <td>2013-08-11 18:56:00</td>\n",
       "      <td>1</td>\n",
       "      <td>120</td>\n",
       "      <td>4.16</td>\n",
       "      <td>-73.925339</td>\n",
       "      <td>40.735992</td>\n",
       "      <td>-73.952271</td>\n",
       "      <td>40.741535</td>\n",
       "    </tr>\n",
       "    <tr>\n",
       "      <th>778431</th>\n",
       "      <td>3E86DAAE0EC6469792192248417D8450</td>\n",
       "      <td>7803E14A65B3C3F98EF72111ABE949C0</td>\n",
       "      <td>2</td>\n",
       "      <td>2013-08-08 07:36:00</td>\n",
       "      <td>2013-08-08 07:47:00</td>\n",
       "      <td>1</td>\n",
       "      <td>660</td>\n",
       "      <td>20.22</td>\n",
       "      <td>-73.973312</td>\n",
       "      <td>40.760227</td>\n",
       "      <td>-73.945107</td>\n",
       "      <td>40.782944</td>\n",
       "    </tr>\n",
       "    <tr>\n",
       "      <th>1138478</th>\n",
       "      <td>588B9D6CE34BDF9E4E2536263E528B47</td>\n",
       "      <td>021258673DAF30F720DA79A71479957B</td>\n",
       "      <td>2</td>\n",
       "      <td>2013-08-12 20:40:00</td>\n",
       "      <td>2013-08-12 20:48:00</td>\n",
       "      <td>1</td>\n",
       "      <td>480</td>\n",
       "      <td>18.60</td>\n",
       "      <td>-73.941872</td>\n",
       "      <td>40.739601</td>\n",
       "      <td>-73.973984</td>\n",
       "      <td>40.754875</td>\n",
       "    </tr>\n",
       "    <tr>\n",
       "      <th>1244413</th>\n",
       "      <td>48A106A9E7294473EEF9C7C2259771FE</td>\n",
       "      <td>A33159AEDC12548035125F2C077B7102</td>\n",
       "      <td>1</td>\n",
       "      <td>2013-08-13 16:12:00</td>\n",
       "      <td>2013-08-13 16:16:00</td>\n",
       "      <td>1</td>\n",
       "      <td>240</td>\n",
       "      <td>11.48</td>\n",
       "      <td>-73.940079</td>\n",
       "      <td>40.750729</td>\n",
       "      <td>-73.962860</td>\n",
       "      <td>40.760567</td>\n",
       "    </tr>\n",
       "  </tbody>\n",
       "</table>\n",
       "<p>515 rows × 12 columns</p>\n",
       "</div>"
      ],
      "text/plain": [
       "                                medallion                      hack_license  \\\n",
       "676      8A6F61BD5F45066A5773A2AF58E113FF  7D35FAFCC77E7BE262098A6E960EDBA4   \n",
       "1075     A6086D46B46031992FE603D412D80F8E  0ADC15AAD39FA90CDFA958C79CD0FD33   \n",
       "1546     BCF3D4EBB257C316FA4B375A0A92FA0F  C6ECAC6C384169EDFE0E5F1E298E3F8A   \n",
       "4246     11AD539AEC155D68644C384188F4D961  BC01267D1B02FA153ADAE031BC9A605D   \n",
       "...                                   ...                               ...   \n",
       "540655   02D98AA3CB447475FD0F3BA4C9D68BEB  2DD32B8EF147BB66D1EA431D25872781   \n",
       "778431   3E86DAAE0EC6469792192248417D8450  7803E14A65B3C3F98EF72111ABE949C0   \n",
       "1138478  588B9D6CE34BDF9E4E2536263E528B47  021258673DAF30F720DA79A71479957B   \n",
       "1244413  48A106A9E7294473EEF9C7C2259771FE  A33159AEDC12548035125F2C077B7102   \n",
       "\n",
       "          rate_code      pickup_datetime     dropoff_datetime  \\\n",
       "676               1  2013-08-27 12:27:02  2013-08-27 12:27:06   \n",
       "1075              1  2013-08-28 05:45:52  2013-08-28 05:46:21   \n",
       "1546              1  2013-08-27 09:59:29  2013-08-27 09:59:32   \n",
       "4246              1  2013-08-28 20:29:15  2013-08-28 20:29:43   \n",
       "...             ...                  ...                  ...   \n",
       "540655            2  2013-08-11 18:54:00  2013-08-11 18:56:00   \n",
       "778431            2  2013-08-08 07:36:00  2013-08-08 07:47:00   \n",
       "1138478           2  2013-08-12 20:40:00  2013-08-12 20:48:00   \n",
       "1244413           1  2013-08-13 16:12:00  2013-08-13 16:16:00   \n",
       "\n",
       "          passenger_count   trip_time_in_secs   trip_distance  \\\n",
       "676                     1                   3            0.30   \n",
       "1075                    1                  28            0.80   \n",
       "1546                    1                   2            0.50   \n",
       "4246                    1                  28            2.00   \n",
       "...                   ...                 ...             ...   \n",
       "540655                  1                 120            4.16   \n",
       "778431                  1                 660           20.22   \n",
       "1138478                 1                 480           18.60   \n",
       "1244413                 1                 240           11.48   \n",
       "\n",
       "          pickup_longitude   pickup_latitude   dropoff_longitude  \\\n",
       "676             -73.996048         40.728649          -73.996536   \n",
       "1075            -73.993149         40.749584          -73.994011   \n",
       "1546            -73.970284         40.806435          -73.970619   \n",
       "4246            -73.987541         40.738194          -73.988174   \n",
       "...                    ...               ...                 ...   \n",
       "540655          -73.925339         40.735992          -73.952271   \n",
       "778431          -73.973312         40.760227          -73.945107   \n",
       "1138478         -73.941872         40.739601          -73.973984   \n",
       "1244413         -73.940079         40.750729          -73.962860   \n",
       "\n",
       "          dropoff_latitude  \n",
       "676              40.728897  \n",
       "1075             40.750130  \n",
       "1546             40.806004  \n",
       "4246             40.738026  \n",
       "...                    ...  \n",
       "540655           40.741535  \n",
       "778431           40.782944  \n",
       "1138478          40.754875  \n",
       "1244413          40.760567  \n",
       "\n",
       "[515 rows x 12 columns]"
      ]
     },
     "execution_count": 527,
     "metadata": {},
     "output_type": "execute_result"
    }
   ],
   "source": [
    "df.ix[(df[' trip_distance']/(df[' trip_time_in_secs']/3600))>100]"
   ]
  },
  {
   "cell_type": "code",
   "execution_count": 528,
   "metadata": {
    "collapsed": true
   },
   "outputs": [],
   "source": [
    "df = df.drop(df[(df[' trip_distance']/(df[' trip_time_in_secs']/3600))>100].index).reset_index(drop=True)"
   ]
  },
  {
   "cell_type": "code",
   "execution_count": 530,
   "metadata": {
    "collapsed": false
   },
   "outputs": [
    {
     "name": "stdout",
     "output_type": "stream",
     "text": [
      "Mediana: 1.76 \n",
      "Média: 2.9540091582618686\n"
     ]
    }
   ],
   "source": [
    "print('Mediana: ' + str(df[' trip_distance'].median()) + ' \\nMédia: '+ str(df[' trip_distance'].mean()))"
   ]
  },
  {
   "cell_type": "markdown",
   "metadata": {},
   "source": [
    "Agora nossa média está bem mais próxima da mediana e faz mais sentido"
   ]
  },
  {
   "cell_type": "markdown",
   "metadata": {},
   "source": [
    "## Início da Análise"
   ]
  },
  {
   "cell_type": "code",
   "execution_count": 531,
   "metadata": {
    "collapsed": false
   },
   "outputs": [],
   "source": [
    "#Função para plottar gráficos de distribuição de forma simplificada. Este modelo de função suporta apenas um filtro por vez.\n",
    "def print_distribution(ax,dataframe,filter_column,filter_value, column_to_display, title,ylabel, xlabel,legend='', bins=None ):\n",
    "    sns.distplot(dataframe.ix[df[filter_column]==filter_value,column_to_display],bins, ax=ax)\n",
    "    ax.set_title(title)\n",
    "    ax.set_ylabel(ylabel)\n",
    "    ax.set_xlabel(xlabel)\n",
    "    if len(legend)>0:\n",
    "        ax.set_legend(legend)    "
   ]
  },
  {
   "cell_type": "code",
   "execution_count": 535,
   "metadata": {
    "collapsed": false
   },
   "outputs": [
    {
     "data": {
      "image/png": "[encoded data removed]",
      "text/plain": [
       "<matplotlib.figure.Figure at 0x19b40f74ac8>"
      ]
     },
     "metadata": {},
     "output_type": "display_data"
    }
   ],
   "source": [
    "plt.rcParams['figure.figsize'] = 12,8\n",
    "fig, ax = plt.subplots(nrows=2, ncols=3)\n",
    "z=1\n",
    "for x in range(2):\n",
    "    for y in range(3):\n",
    "        plt.tight_layout()\n",
    "        print_distribution(ax[x,y], df,' rate_code',z,' trip_distance', 'Rate:#0'+str(z), 'Frequency', 'Distance Range')\n",
    "        z+=1  "
   ]
  },
  {
   "cell_type": "markdown",
   "metadata": {},
   "source": [
    "# Continuar daqui !!\n"
   ]
  },
  {
   "cell_type": "code",
   "execution_count": 540,
   "metadata": {
    "collapsed": false
   },
   "outputs": [
    {
     "data": {
      "text/plain": [
       "<matplotlib.axes._subplots.AxesSubplot at 0x19b152f1048>"
      ]
     },
     "execution_count": 540,
     "metadata": {},
     "output_type": "execute_result"
    },
    {
     "data": {
      "image/png": "[encoded data removed]",
      "text/plain": [
       "<matplotlib.figure.Figure at 0x19b024a7e48>"
      ]
     },
     "metadata": {},
     "output_type": "display_data"
    }
   ],
   "source": [
    "sns.distplot(df.ix[(df[' rate_code']==2)&(df[' trip_distance']<30),' trip_distance'])"
   ]
  },
  {
   "cell_type": "code",
   "execution_count": null,
   "metadata": {
    "collapsed": true
   },
   "outputs": [],
   "source": []
  },
  {
   "cell_type": "code",
   "execution_count": null,
   "metadata": {
    "collapsed": true
   },
   "outputs": [],
   "source": []
  },
  {
   "cell_type": "code",
   "execution_count": null,
   "metadata": {
    "collapsed": true
   },
   "outputs": [],
   "source": []
  },
  {
   "cell_type": "code",
   "execution_count": null,
   "metadata": {
    "collapsed": true
   },
   "outputs": [],
   "source": []
  },
  {
   "cell_type": "code",
   "execution_count": null,
   "metadata": {
    "collapsed": true
   },
   "outputs": [],
   "source": []
  },
  {
   "cell_type": "code",
   "execution_count": null,
   "metadata": {
    "collapsed": true
   },
   "outputs": [],
   "source": []
  },
  {
   "cell_type": "markdown",
   "metadata": {},
   "source": [
    "#### Lembrando que qualquer distância superior a 9.5 milhas está agrupada como distância = 10. Podemos ver que os Rates #1 e #6 tem concentração em distâncias curtas (inferiores a 9.6 milhas). Os rates  #2 e #3, que são referentes a corridas saindo ou indo para o Aeroporto JFK, corriidas dentro de Manhattan ou para o Aeroporto Newark tem grande concentração em distâncias superiores. Já os rates #4 e #5 tem concentração nos extremos e são referentes a corridas fora da cidade."
   ]
  },
  {
   "cell_type": "code",
   "execution_count": 209,
   "metadata": {
    "collapsed": true
   },
   "outputs": [],
   "source": [
    "plt.rcParams['figure.figsize'] = 7, 4"
   ]
  },
  {
   "cell_type": "code",
   "execution_count": 210,
   "metadata": {
    "collapsed": false
   },
   "outputs": [
    {
     "name": "stdout",
     "output_type": "stream",
     "text": [
      "Mediana: 600.0 \n",
      "Média: 817.5174217422773\n"
     ]
    }
   ],
   "source": [
    "print('Mediana: ' + str(df[' trip_time_in_secs'].median()) + ' \\nMédia: '+ str(df[' trip_time_in_secs'].mean()))"
   ]
  },
  {
   "cell_type": "code",
   "execution_count": 211,
   "metadata": {
    "collapsed": false
   },
   "outputs": [
    {
     "data": {
      "text/plain": [
       "<matplotlib.axes._subplots.AxesSubplot at 0x19b1fad8898>"
      ]
     },
     "execution_count": 211,
     "metadata": {},
     "output_type": "execute_result"
    },
    {
     "data": {
      "image/png": "[encoded data removed]",
      "text/plain": [
       "<matplotlib.figure.Figure at 0x19b14d658d0>"
      ]
     },
     "metadata": {},
     "output_type": "display_data"
    }
   ],
   "source": [
    "sns.distplot(df.ix[df[' trip_time_in_secs']<2500, ' trip_time_in_secs'])"
   ]
  },
  {
   "cell_type": "code",
   "execution_count": 212,
   "metadata": {
    "collapsed": false
   },
   "outputs": [
    {
     "data": {
      "text/plain": [
       "(array([  19984.,   82090.,   90269.,  159742.,  159206.,   92478.,\n",
       "         128651.,  106342.,   55192.,   75775.]),\n",
       " array([ -10. ,   90.9,  191.8,  292.7,  393.6,  494.5,  595.4,  696.3,\n",
       "         797.2,  898.1,  999. ]),\n",
       " <a list of 10 Patch objects>)"
      ]
     },
     "execution_count": 212,
     "metadata": {},
     "output_type": "execute_result"
    },
    {
     "data": {
      "image/png": "[encoded data removed]",
      "text/plain": [
       "<matplotlib.figure.Figure at 0x19b150fe438>"
      ]
     },
     "metadata": {},
     "output_type": "display_data"
    }
   ],
   "source": [
    "plt.hist(df.ix[df[' trip_time_in_secs']<1000, ' trip_time_in_secs'])"
   ]
  },
  {
   "cell_type": "markdown",
   "metadata": {},
   "source": [
    "Aqui o histograma nos ajuda a enxergar com mais clareza que os clientes costumam fazer corridas que duram entre 300 e 500 segundos"
   ]
  },
  {
   "cell_type": "code",
   "execution_count": 213,
   "metadata": {
    "collapsed": false
   },
   "outputs": [
    {
     "data": {
      "image/png": "[encoded data removed]",
      "text/plain": [
       "<matplotlib.figure.Figure at 0x19b1512c9b0>"
      ]
     },
     "metadata": {},
     "output_type": "display_data"
    }
   ],
   "source": [
    "plt.rcParams['figure.figsize'] = 12,8\n",
    "fig, ax = plt.subplots(nrows=2, ncols=3)\n",
    "z=1\n",
    "for x in range(2):\n",
    "    for y in range(3):\n",
    "        plt.tight_layout()\n",
    "        print_distribution(ax[x,y], df,' rate_code',z,' trip_time_in_secs', 'Rate:#0'+str(z), 'Frequency', 'Trip Time in Seconds', bins=10)\n",
    "        z+=1  "
   ]
  },
  {
   "cell_type": "markdown",
   "metadata": {},
   "source": [
    "Ao tentar plottar a concentração do tempo de viagem pela taxa que cada cliente pagou, temos dificuldade de enxergar pois não categorizamos o tempo em faixas, então o eixo X tem grande variação de escala. Mas conseguimos ver claramente que as taxas #2 e #3 tem as maiores médias de tempo em viagem. Vamos olhar em mais detalhes:"
   ]
  },
  {
   "cell_type": "code",
   "execution_count": 214,
   "metadata": {
    "collapsed": true
   },
   "outputs": [],
   "source": [
    "plt.rcParams['figure.figsize'] = 7, 4"
   ]
  },
  {
   "cell_type": "code",
   "execution_count": 215,
   "metadata": {
    "collapsed": false
   },
   "outputs": [
    {
     "data": {
      "text/plain": [
       "<matplotlib.text.Text at 0x19b0b84c828>"
      ]
     },
     "execution_count": 215,
     "metadata": {},
     "output_type": "execute_result"
    },
    {
     "data": {
      "image/png": "[encoded data removed]",
      "text/plain": [
       "<matplotlib.figure.Figure at 0x19b153099b0>"
      ]
     },
     "metadata": {},
     "output_type": "display_data"
    }
   ],
   "source": [
    "sns.distplot(df.ix[df[' rate_code']==2, ' trip_time_in_secs'])\n",
    "plt.title('Rate 2 travel time')"
   ]
  },
  {
   "cell_type": "code",
   "execution_count": 216,
   "metadata": {
    "collapsed": false
   },
   "outputs": [
    {
     "data": {
      "text/plain": [
       "<matplotlib.text.Text at 0x19b14be6898>"
      ]
     },
     "execution_count": 216,
     "metadata": {},
     "output_type": "execute_result"
    },
    {
     "data": {
      "image/png": "[encoded data removed]",
      "text/plain": [
       "<matplotlib.figure.Figure at 0x19b14cfbd30>"
      ]
     },
     "metadata": {},
     "output_type": "display_data"
    }
   ],
   "source": [
    "sns.distplot(df.ix[df[' rate_code']==3, ' trip_time_in_secs'])\n",
    "plt.title('Rate 3 travel time')"
   ]
  },
  {
   "cell_type": "markdown",
   "metadata": {},
   "source": [
    "Agora vamos ver em mais detalhes a taxa 1, que tem concentração de tempo bem baixa, comparada aos outros"
   ]
  },
  {
   "cell_type": "code",
   "execution_count": 217,
   "metadata": {
    "collapsed": false
   },
   "outputs": [
    {
     "data": {
      "text/plain": [
       "<matplotlib.text.Text at 0x19b0bca2588>"
      ]
     },
     "execution_count": 217,
     "metadata": {},
     "output_type": "execute_result"
    },
    {
     "data": {
      "image/png": "[encoded data removed]",
      "text/plain": [
       "<matplotlib.figure.Figure at 0x19b14d6b470>"
      ]
     },
     "metadata": {},
     "output_type": "display_data"
    }
   ],
   "source": [
    "plt.hist(df.ix[(df[' rate_code']==1) & (df[' trip_time_in_secs']<2500) , ' trip_time_in_secs'])\n",
    "plt.title('Rate 1 travel time')"
   ]
  },
  {
   "cell_type": "markdown",
   "metadata": {},
   "source": [
    "Vemos claramente que  o tempo médio nessa rate reflete o comportamente da base toda que é entre 300 e 500 segundos, o que indica que provavelmente o número de corridas na Rate 1 deve ser bem maior do que as outras rates. Vamos confirmar isso no histograma abaixo:"
   ]
  },
  {
   "cell_type": "code",
   "execution_count": 219,
   "metadata": {
    "collapsed": false,
    "scrolled": true
   },
   "outputs": [
    {
     "name": "stdout",
     "output_type": "stream",
     "text": [
      "1    1230273\n",
      "2      24670\n",
      "5       3607\n",
      "3       2208\n",
      "4        658\n",
      "6         25\n",
      "Name:  rate_code, dtype: int64\n"
     ]
    },
    {
     "data": {
      "text/plain": [
       "''"
      ]
     },
     "execution_count": 219,
     "metadata": {},
     "output_type": "execute_result"
    },
    {
     "data": {
      "image/png": "[encoded data removed]",
      "text/plain": [
       "<matplotlib.figure.Figure at 0x19b0bcf1080>"
      ]
     },
     "metadata": {},
     "output_type": "display_data"
    }
   ],
   "source": [
    "#Vou printar os valores antes do histograma para evidenciar a diferença entre as concentrações\n",
    "print(df[' rate_code'].value_counts())\n",
    "plt.hist(df[' rate_code'])\n",
    "''"
   ]
  },
  {
   "cell_type": "code",
   "execution_count": 74,
   "metadata": {
    "collapsed": false
   },
   "outputs": [
    {
     "data": {
      "text/plain": [
       "'2013-08-05 00:19:00'"
      ]
     },
     "execution_count": 74,
     "metadata": {},
     "output_type": "execute_result"
    }
   ],
   "source": [
    "df[' pickup_datetime'].min()"
   ]
  },
  {
   "cell_type": "code",
   "execution_count": 130,
   "metadata": {
    "collapsed": false
   },
   "outputs": [
    {
     "data": {
      "text/plain": [
       "'2013-08-31 23:59:59'"
      ]
     },
     "execution_count": 130,
     "metadata": {},
     "output_type": "execute_result"
    }
   ],
   "source": [
    "df[' pickup_datetime'].max()"
   ]
  },
  {
   "cell_type": "code",
   "execution_count": 142,
   "metadata": {
    "collapsed": false
   },
   "outputs": [
    {
     "data": {
      "text/plain": [
       "'2013-08-05 00:26:00'"
      ]
     },
     "execution_count": 142,
     "metadata": {},
     "output_type": "execute_result"
    }
   ],
   "source": [
    "df[' dropoff_datetime'].min()"
   ]
  },
  {
   "cell_type": "code",
   "execution_count": 143,
   "metadata": {
    "collapsed": false
   },
   "outputs": [
    {
     "data": {
      "text/plain": [
       "'2013-09-01 16:11:01'"
      ]
     },
     "execution_count": 143,
     "metadata": {},
     "output_type": "execute_result"
    }
   ],
   "source": [
    "df[' dropoff_datetime'].max()"
   ]
  },
  {
   "cell_type": "markdown",
   "metadata": {},
   "source": [
    "Todas as datas de embarque estão em Agosto de 2013, mas temos desembarque em Setembro. Para facilitar a análise, criarei colunas com mês, dia, hora e minuto tanto para embarque como para desembarque"
   ]
  },
  {
   "cell_type": "code",
   "execution_count": 135,
   "metadata": {
    "collapsed": false
   },
   "outputs": [],
   "source": [
    "df['pickup_month'] = df[' pickup_datetime'].str.slice(start=5, stop=7)\n",
    "df['pickup_day'] = df[' pickup_datetime'].str.slice(start=8, stop=10)\n",
    "df['pickup_hour'] = df[' pickup_datetime'].str.slice(start=11, stop=13)\n",
    "df['pickup_minute'] = df[' pickup_datetime'].str.slice(start=14, stop=16)"
   ]
  },
  {
   "cell_type": "code",
   "execution_count": 147,
   "metadata": {
    "collapsed": false
   },
   "outputs": [],
   "source": [
    "df['dropoff_month'] = df[' dropoff_datetime'].str.slice(start=5, stop=7)\n",
    "df['dropoff_day'] = df[' dropoff_datetime'].str.slice(start=8, stop=10)\n",
    "df['dropoff_hour'] = df[' dropoff_datetime'].str.slice(start=11, stop=13)\n",
    "df['dropoff_minute'] = df[' dropoff_datetime'].str.slice(start=14, stop=16)"
   ]
  },
  {
   "cell_type": "code",
   "execution_count": 178,
   "metadata": {
    "collapsed": false,
    "scrolled": true
   },
   "outputs": [
    {
     "data": {
      "text/plain": [
       "<matplotlib.axes._subplots.AxesSubplot at 0x19b0179e9e8>"
      ]
     },
     "execution_count": 178,
     "metadata": {},
     "output_type": "execute_result"
    },
    {
     "data": {
      "image/png": "[encoded data removed]",
      "text/plain": [
       "<matplotlib.figure.Figure at 0x19b019bb588>"
      ]
     },
     "metadata": {},
     "output_type": "display_data"
    }
   ],
   "source": [
    "df.groupby(by=['pickup_day'])[' hack_license'].count().plot(kind='bar', title='Pickups by day in August 2013')"
   ]
  },
  {
   "cell_type": "markdown",
   "metadata": {},
   "source": [
    "#### Claramente nós temos dias faltantes nos embarques, o que inviabiliza uma análise por dia do mês em Agosto"
   ]
  },
  {
   "cell_type": "markdown",
   "metadata": {},
   "source": [
    "Mas vamos tentar uma análise por hora"
   ]
  },
  {
   "cell_type": "code",
   "execution_count": 170,
   "metadata": {
    "collapsed": false,
    "scrolled": true
   },
   "outputs": [
    {
     "data": {
      "text/plain": [
       "<matplotlib.axes._subplots.AxesSubplot at 0x19b01c5cf28>"
      ]
     },
     "execution_count": 170,
     "metadata": {},
     "output_type": "execute_result"
    },
    {
     "data": {
      "image/png": "[encoded data removed]",
      "text/plain": [
       "<matplotlib.figure.Figure at 0x19b01cfc160>"
      ]
     },
     "metadata": {},
     "output_type": "display_data"
    }
   ],
   "source": [
    "df.groupby(by=['pickup_hour'])[' hack_license'].count().plot(kind='bar', title='')"
   ]
  },
  {
   "cell_type": "markdown",
   "metadata": {},
   "source": [
    "#### Ignorando o dia do mês e considerando apenas a hora, vemos uma curva que indica picos as 9h e às 19h, podendo significar a população indo e voltando do trabalho. Temos uma baixa na demanda, durante a madrugada."
   ]
  },
  {
   "cell_type": "code",
   "execution_count": 186,
   "metadata": {
    "collapsed": false
   },
   "outputs": [
    {
     "data": {
      "text/plain": [
       "<matplotlib.axes._subplots.AxesSubplot at 0x19b02307240>"
      ]
     },
     "execution_count": 186,
     "metadata": {},
     "output_type": "execute_result"
    },
    {
     "data": {
      "image/png": "[encoded data removed]",
      "text/plain": [
       "<matplotlib.figure.Figure at 0x19b02321358>"
      ]
     },
     "metadata": {},
     "output_type": "display_data"
    }
   ],
   "source": [
    "df.ix[df['pickup_day']=='08',:].groupby(by=['pickup_hour'])[' hack_license'].count().plot(kind='bar', title='Quantidade de Embarques no dia de maior movimento')"
   ]
  },
  {
   "cell_type": "code",
   "execution_count": 191,
   "metadata": {
    "collapsed": false,
    "scrolled": false
   },
   "outputs": [
    {
     "data": {
      "text/plain": [
       "<matplotlib.axes._subplots.AxesSubplot at 0x19b02492cf8>"
      ]
     },
     "execution_count": 191,
     "metadata": {},
     "output_type": "execute_result"
    },
    {
     "data": {
      "image/png": "[encoded data removed]",
      "text/plain": [
       "<matplotlib.figure.Figure at 0x19b0249d0b8>"
      ]
     },
     "metadata": {},
     "output_type": "display_data"
    }
   ],
   "source": [
    "df.ix[df['pickup_day']=='08',:].groupby(by=['pickup_hour'])[' hack_license'].nunique().plot(kind='bar', title='Quantidade de Taxis com clientes embarcando no dia de maior movimento')"
   ]
  },
  {
   "cell_type": "code",
   "execution_count": 192,
   "metadata": {
    "collapsed": false
   },
   "outputs": [
    {
     "data": {
      "text/plain": [
       "26343"
      ]
     },
     "execution_count": 192,
     "metadata": {},
     "output_type": "execute_result"
    }
   ],
   "source": [
    "len(df[' hack_license'].unique())"
   ]
  },
  {
   "cell_type": "code",
   "execution_count": 221,
   "metadata": {
    "collapsed": false,
    "scrolled": true
   },
   "outputs": [
    {
     "data": {
      "text/plain": [
       " hack_license\n",
       "7B19DE6D4D54999531BEB27F758F71F6    354\n",
       "CFCD208495D565EF66E7DFF9F98764DA    237\n",
       "D85749E8852FCC66A990E40605607B2F    220\n",
       "51C1BE97280A80EBFA8DAD34E1956CF6    217\n",
       "                                   ... \n",
       "D2DE88FC7856A5F50C05E8D9B7A20838      1\n",
       "5403C71B756A8EBC2C61ECC7389FFDF8      1\n",
       "2E2F58DFB758E1F67FF58614D4A26847      1\n",
       "0002555BBE359440D6CEB34B699D3932      1\n",
       "dtype: int64"
      ]
     },
     "execution_count": 221,
     "metadata": {},
     "output_type": "execute_result"
    }
   ],
   "source": [
    "df.groupby(by=' hack_license').size().sort_values(ascending=False)"
   ]
  },
  {
   "cell_type": "code",
   "execution_count": 259,
   "metadata": {
    "collapsed": false,
    "scrolled": true
   },
   "outputs": [
    {
     "data": {
      "text/html": [
       "<div>\n",
       "<table border=\"1\" class=\"dataframe\">\n",
       "  <thead>\n",
       "    <tr style=\"text-align: right;\">\n",
       "      <th></th>\n",
       "      <th>hack_license</th>\n",
       "      <th>medallion</th>\n",
       "      <th>trip_distance</th>\n",
       "    </tr>\n",
       "  </thead>\n",
       "  <tbody>\n",
       "    <tr>\n",
       "      <th>12605</th>\n",
       "      <td>7B19DE6D4D54999531BEB27F758F71F6</td>\n",
       "      <td>354</td>\n",
       "      <td>0.000565</td>\n",
       "    </tr>\n",
       "    <tr>\n",
       "      <th>21369</th>\n",
       "      <td>CFCD208495D565EF66E7DFF9F98764DA</td>\n",
       "      <td>237</td>\n",
       "      <td>3.586709</td>\n",
       "    </tr>\n",
       "    <tr>\n",
       "      <th>22280</th>\n",
       "      <td>D85749E8852FCC66A990E40605607B2F</td>\n",
       "      <td>220</td>\n",
       "      <td>3.094364</td>\n",
       "    </tr>\n",
       "    <tr>\n",
       "      <th>8340</th>\n",
       "      <td>51C1BE97280A80EBFA8DAD34E1956CF6</td>\n",
       "      <td>217</td>\n",
       "      <td>2.430507</td>\n",
       "    </tr>\n",
       "    <tr>\n",
       "      <th>...</th>\n",
       "      <td>...</td>\n",
       "      <td>...</td>\n",
       "      <td>...</td>\n",
       "    </tr>\n",
       "    <tr>\n",
       "      <th>10010</th>\n",
       "      <td>617B57B248AC7190A61C750DE26510D3</td>\n",
       "      <td>1</td>\n",
       "      <td>1.600000</td>\n",
       "    </tr>\n",
       "    <tr>\n",
       "      <th>10005</th>\n",
       "      <td>6172D972A1E14870B862F535B5763E57</td>\n",
       "      <td>1</td>\n",
       "      <td>2.000000</td>\n",
       "    </tr>\n",
       "    <tr>\n",
       "      <th>25089</th>\n",
       "      <td>F41A90B2CBABC15EC70D2E4F2F901FEB</td>\n",
       "      <td>1</td>\n",
       "      <td>4.300000</td>\n",
       "    </tr>\n",
       "    <tr>\n",
       "      <th>0</th>\n",
       "      <td>0002555BBE359440D6CEB34B699D3932</td>\n",
       "      <td>1</td>\n",
       "      <td>5.900000</td>\n",
       "    </tr>\n",
       "  </tbody>\n",
       "</table>\n",
       "<p>26343 rows × 3 columns</p>\n",
       "</div>"
      ],
      "text/plain": [
       "                           hack_license  medallion   trip_distance\n",
       "12605  7B19DE6D4D54999531BEB27F758F71F6        354        0.000565\n",
       "21369  CFCD208495D565EF66E7DFF9F98764DA        237        3.586709\n",
       "22280  D85749E8852FCC66A990E40605607B2F        220        3.094364\n",
       "8340   51C1BE97280A80EBFA8DAD34E1956CF6        217        2.430507\n",
       "...                                 ...        ...             ...\n",
       "10010  617B57B248AC7190A61C750DE26510D3          1        1.600000\n",
       "10005  6172D972A1E14870B862F535B5763E57          1        2.000000\n",
       "25089  F41A90B2CBABC15EC70D2E4F2F901FEB          1        4.300000\n",
       "0      0002555BBE359440D6CEB34B699D3932          1        5.900000\n",
       "\n",
       "[26343 rows x 3 columns]"
      ]
     },
     "execution_count": 259,
     "metadata": {},
     "output_type": "execute_result"
    }
   ],
   "source": [
    "df.groupby(by=' hack_license').agg({'medallion':'count', ' trip_distance':'mean'}).reset_index().sort_values(by='medallion', ascending=False)"
   ]
  },
  {
   "cell_type": "code",
   "execution_count": 260,
   "metadata": {
    "collapsed": false
   },
   "outputs": [
    {
     "data": {
      "text/html": [
       "<div>\n",
       "<table border=\"1\" class=\"dataframe\">\n",
       "  <thead>\n",
       "    <tr style=\"text-align: right;\">\n",
       "      <th></th>\n",
       "      <th>hack_license</th>\n",
       "      <th>medallion</th>\n",
       "      <th>trip_distance</th>\n",
       "    </tr>\n",
       "  </thead>\n",
       "  <tbody>\n",
       "    <tr>\n",
       "      <th>18475</th>\n",
       "      <td>B39EC727955CF8714738DDE8A4707E9B</td>\n",
       "      <td>1</td>\n",
       "      <td>0.000000e+00</td>\n",
       "    </tr>\n",
       "    <tr>\n",
       "      <th>17983</th>\n",
       "      <td>AF21D0C97DB2E27E13572CBF59EB343D</td>\n",
       "      <td>20</td>\n",
       "      <td>0.000000e+00</td>\n",
       "    </tr>\n",
       "    <tr>\n",
       "      <th>15888</th>\n",
       "      <td>9B257FC037652A68D1404A5F7C206A57</td>\n",
       "      <td>1</td>\n",
       "      <td>0.000000e+00</td>\n",
       "    </tr>\n",
       "    <tr>\n",
       "      <th>11817</th>\n",
       "      <td>735B90B4568125ED6C3F678819B6E058</td>\n",
       "      <td>6</td>\n",
       "      <td>0.000000e+00</td>\n",
       "    </tr>\n",
       "    <tr>\n",
       "      <th>...</th>\n",
       "      <td>...</td>\n",
       "      <td>...</td>\n",
       "      <td>...</td>\n",
       "    </tr>\n",
       "    <tr>\n",
       "      <th>19324</th>\n",
       "      <td>BC0B2E4616DF627759FA42A90A2CAD97</td>\n",
       "      <td>17</td>\n",
       "      <td>4.706393e+05</td>\n",
       "    </tr>\n",
       "    <tr>\n",
       "      <th>1130</th>\n",
       "      <td>0B21B07994F53C937E2687A81488A3C5</td>\n",
       "      <td>31</td>\n",
       "      <td>6.929110e+05</td>\n",
       "    </tr>\n",
       "    <tr>\n",
       "      <th>22151</th>\n",
       "      <td>D71585382E18358678091C2B98C548F0</td>\n",
       "      <td>12</td>\n",
       "      <td>9.833373e+05</td>\n",
       "    </tr>\n",
       "    <tr>\n",
       "      <th>22021</th>\n",
       "      <td>D5EDBD218A9831DE3ECC458B8E2DC608</td>\n",
       "      <td>12</td>\n",
       "      <td>1.562379e+06</td>\n",
       "    </tr>\n",
       "  </tbody>\n",
       "</table>\n",
       "<p>26343 rows × 3 columns</p>\n",
       "</div>"
      ],
      "text/plain": [
       "                           hack_license  medallion   trip_distance\n",
       "18475  B39EC727955CF8714738DDE8A4707E9B          1    0.000000e+00\n",
       "17983  AF21D0C97DB2E27E13572CBF59EB343D         20    0.000000e+00\n",
       "15888  9B257FC037652A68D1404A5F7C206A57          1    0.000000e+00\n",
       "11817  735B90B4568125ED6C3F678819B6E058          6    0.000000e+00\n",
       "...                                 ...        ...             ...\n",
       "19324  BC0B2E4616DF627759FA42A90A2CAD97         17    4.706393e+05\n",
       "1130   0B21B07994F53C937E2687A81488A3C5         31    6.929110e+05\n",
       "22151  D71585382E18358678091C2B98C548F0         12    9.833373e+05\n",
       "22021  D5EDBD218A9831DE3ECC458B8E2DC608         12    1.562379e+06\n",
       "\n",
       "[26343 rows x 3 columns]"
      ]
     },
     "execution_count": 260,
     "metadata": {},
     "output_type": "execute_result"
    }
   ],
   "source": [
    "df.groupby(by=' hack_license').agg({'medallion':'count', ' trip_distance':'mean'}).reset_index().sort_values(by=' trip_distance', ascending=True)"
   ]
  },
  {
   "cell_type": "code",
   "execution_count": 262,
   "metadata": {
    "collapsed": false,
    "scrolled": true
   },
   "outputs": [
    {
     "data": {
      "text/html": [
       "<div>\n",
       "<table border=\"1\" class=\"dataframe\">\n",
       "  <thead>\n",
       "    <tr style=\"text-align: right;\">\n",
       "      <th></th>\n",
       "      <th>medallion</th>\n",
       "      <th>hack_license</th>\n",
       "      <th>rate_code</th>\n",
       "      <th>pickup_datetime</th>\n",
       "      <th>dropoff_datetime</th>\n",
       "      <th>passenger_count</th>\n",
       "      <th>trip_time_in_secs</th>\n",
       "      <th>trip_distance</th>\n",
       "      <th>pickup_longitude</th>\n",
       "      <th>pickup_latitude</th>\n",
       "      <th>dropoff_longitude</th>\n",
       "      <th>dropoff_latitude</th>\n",
       "      <th>dist_range</th>\n",
       "    </tr>\n",
       "  </thead>\n",
       "  <tbody>\n",
       "    <tr>\n",
       "      <th>369311</th>\n",
       "      <td>63C3BB163F22D850E726CBCA4D8258C3</td>\n",
       "      <td>7B19DE6D4D54999531BEB27F758F71F6</td>\n",
       "      <td>1</td>\n",
       "      <td>2013-08-07 09:17:00</td>\n",
       "      <td>2013-08-07 09:19:00</td>\n",
       "      <td>2</td>\n",
       "      <td>120</td>\n",
       "      <td>0.0</td>\n",
       "      <td>0.000000</td>\n",
       "      <td>0.000000</td>\n",
       "      <td>0.000000</td>\n",
       "      <td>0.000000</td>\n",
       "      <td>0.5</td>\n",
       "    </tr>\n",
       "    <tr>\n",
       "      <th>370860</th>\n",
       "      <td>54E164D9BEC68DE1148F87110F405DE0</td>\n",
       "      <td>7B19DE6D4D54999531BEB27F758F71F6</td>\n",
       "      <td>1</td>\n",
       "      <td>2013-08-07 10:48:00</td>\n",
       "      <td>2013-08-07 10:50:00</td>\n",
       "      <td>1</td>\n",
       "      <td>120</td>\n",
       "      <td>0.0</td>\n",
       "      <td>-73.937340</td>\n",
       "      <td>40.758259</td>\n",
       "      <td>-73.937325</td>\n",
       "      <td>40.758251</td>\n",
       "      <td>0.5</td>\n",
       "    </tr>\n",
       "    <tr>\n",
       "      <th>371439</th>\n",
       "      <td>3FE993A83124A987A87098160981D3B6</td>\n",
       "      <td>7B19DE6D4D54999531BEB27F758F71F6</td>\n",
       "      <td>1</td>\n",
       "      <td>2013-08-06 10:08:00</td>\n",
       "      <td>2013-08-06 10:08:00</td>\n",
       "      <td>2</td>\n",
       "      <td>0</td>\n",
       "      <td>0.0</td>\n",
       "      <td>0.000000</td>\n",
       "      <td>0.000000</td>\n",
       "      <td>0.000000</td>\n",
       "      <td>0.000000</td>\n",
       "      <td>0.5</td>\n",
       "    </tr>\n",
       "    <tr>\n",
       "      <th>372784</th>\n",
       "      <td>3FE993A83124A987A87098160981D3B6</td>\n",
       "      <td>7B19DE6D4D54999531BEB27F758F71F6</td>\n",
       "      <td>1</td>\n",
       "      <td>2013-08-07 02:10:00</td>\n",
       "      <td>2013-08-07 02:11:00</td>\n",
       "      <td>1</td>\n",
       "      <td>60</td>\n",
       "      <td>0.0</td>\n",
       "      <td>-73.937508</td>\n",
       "      <td>40.758263</td>\n",
       "      <td>-73.937508</td>\n",
       "      <td>40.758266</td>\n",
       "      <td>0.5</td>\n",
       "    </tr>\n",
       "    <tr>\n",
       "      <th>...</th>\n",
       "      <td>...</td>\n",
       "      <td>...</td>\n",
       "      <td>...</td>\n",
       "      <td>...</td>\n",
       "      <td>...</td>\n",
       "      <td>...</td>\n",
       "      <td>...</td>\n",
       "      <td>...</td>\n",
       "      <td>...</td>\n",
       "      <td>...</td>\n",
       "      <td>...</td>\n",
       "      <td>...</td>\n",
       "      <td>...</td>\n",
       "    </tr>\n",
       "    <tr>\n",
       "      <th>1251842</th>\n",
       "      <td>1560E7C1453E7996A61C96B7A8824EFE</td>\n",
       "      <td>7B19DE6D4D54999531BEB27F758F71F6</td>\n",
       "      <td>1</td>\n",
       "      <td>2013-08-13 11:38:00</td>\n",
       "      <td>2013-08-13 11:43:00</td>\n",
       "      <td>1</td>\n",
       "      <td>300</td>\n",
       "      <td>0.0</td>\n",
       "      <td>-73.937813</td>\n",
       "      <td>40.758240</td>\n",
       "      <td>-73.937813</td>\n",
       "      <td>40.758236</td>\n",
       "      <td>0.5</td>\n",
       "    </tr>\n",
       "    <tr>\n",
       "      <th>1251941</th>\n",
       "      <td>C1774E2BF1CB7962683997AD39427D25</td>\n",
       "      <td>7B19DE6D4D54999531BEB27F758F71F6</td>\n",
       "      <td>1</td>\n",
       "      <td>2013-08-13 13:20:00</td>\n",
       "      <td>2013-08-13 13:20:00</td>\n",
       "      <td>1</td>\n",
       "      <td>0</td>\n",
       "      <td>0.0</td>\n",
       "      <td>-73.937393</td>\n",
       "      <td>40.758102</td>\n",
       "      <td>-73.938210</td>\n",
       "      <td>40.758244</td>\n",
       "      <td>0.5</td>\n",
       "    </tr>\n",
       "    <tr>\n",
       "      <th>1254924</th>\n",
       "      <td>937A41116FCDEBA535FC3FA0B2965043</td>\n",
       "      <td>7B19DE6D4D54999531BEB27F758F71F6</td>\n",
       "      <td>1</td>\n",
       "      <td>2013-08-13 14:07:00</td>\n",
       "      <td>2013-08-13 14:56:00</td>\n",
       "      <td>1</td>\n",
       "      <td>2940</td>\n",
       "      <td>0.0</td>\n",
       "      <td>0.000000</td>\n",
       "      <td>0.000000</td>\n",
       "      <td>0.000000</td>\n",
       "      <td>0.000000</td>\n",
       "      <td>0.5</td>\n",
       "    </tr>\n",
       "    <tr>\n",
       "      <th>1258078</th>\n",
       "      <td>937A41116FCDEBA535FC3FA0B2965043</td>\n",
       "      <td>7B19DE6D4D54999531BEB27F758F71F6</td>\n",
       "      <td>1</td>\n",
       "      <td>2013-08-13 13:34:00</td>\n",
       "      <td>2013-08-13 13:34:00</td>\n",
       "      <td>1</td>\n",
       "      <td>0</td>\n",
       "      <td>0.0</td>\n",
       "      <td>0.000000</td>\n",
       "      <td>0.000000</td>\n",
       "      <td>0.000000</td>\n",
       "      <td>0.000000</td>\n",
       "      <td>0.5</td>\n",
       "    </tr>\n",
       "  </tbody>\n",
       "</table>\n",
       "<p>354 rows × 13 columns</p>\n",
       "</div>"
      ],
      "text/plain": [
       "                                medallion                      hack_license  \\\n",
       "369311   63C3BB163F22D850E726CBCA4D8258C3  7B19DE6D4D54999531BEB27F758F71F6   \n",
       "370860   54E164D9BEC68DE1148F87110F405DE0  7B19DE6D4D54999531BEB27F758F71F6   \n",
       "371439   3FE993A83124A987A87098160981D3B6  7B19DE6D4D54999531BEB27F758F71F6   \n",
       "372784   3FE993A83124A987A87098160981D3B6  7B19DE6D4D54999531BEB27F758F71F6   \n",
       "...                                   ...                               ...   \n",
       "1251842  1560E7C1453E7996A61C96B7A8824EFE  7B19DE6D4D54999531BEB27F758F71F6   \n",
       "1251941  C1774E2BF1CB7962683997AD39427D25  7B19DE6D4D54999531BEB27F758F71F6   \n",
       "1254924  937A41116FCDEBA535FC3FA0B2965043  7B19DE6D4D54999531BEB27F758F71F6   \n",
       "1258078  937A41116FCDEBA535FC3FA0B2965043  7B19DE6D4D54999531BEB27F758F71F6   \n",
       "\n",
       "          rate_code      pickup_datetime     dropoff_datetime  \\\n",
       "369311            1  2013-08-07 09:17:00  2013-08-07 09:19:00   \n",
       "370860            1  2013-08-07 10:48:00  2013-08-07 10:50:00   \n",
       "371439            1  2013-08-06 10:08:00  2013-08-06 10:08:00   \n",
       "372784            1  2013-08-07 02:10:00  2013-08-07 02:11:00   \n",
       "...             ...                  ...                  ...   \n",
       "1251842           1  2013-08-13 11:38:00  2013-08-13 11:43:00   \n",
       "1251941           1  2013-08-13 13:20:00  2013-08-13 13:20:00   \n",
       "1254924           1  2013-08-13 14:07:00  2013-08-13 14:56:00   \n",
       "1258078           1  2013-08-13 13:34:00  2013-08-13 13:34:00   \n",
       "\n",
       "          passenger_count   trip_time_in_secs   trip_distance  \\\n",
       "369311                  2                 120             0.0   \n",
       "370860                  1                 120             0.0   \n",
       "371439                  2                   0             0.0   \n",
       "372784                  1                  60             0.0   \n",
       "...                   ...                 ...             ...   \n",
       "1251842                 1                 300             0.0   \n",
       "1251941                 1                   0             0.0   \n",
       "1254924                 1                2940             0.0   \n",
       "1258078                 1                   0             0.0   \n",
       "\n",
       "          pickup_longitude   pickup_latitude   dropoff_longitude  \\\n",
       "369311            0.000000          0.000000            0.000000   \n",
       "370860          -73.937340         40.758259          -73.937325   \n",
       "371439            0.000000          0.000000            0.000000   \n",
       "372784          -73.937508         40.758263          -73.937508   \n",
       "...                    ...               ...                 ...   \n",
       "1251842         -73.937813         40.758240          -73.937813   \n",
       "1251941         -73.937393         40.758102          -73.938210   \n",
       "1254924           0.000000          0.000000            0.000000   \n",
       "1258078           0.000000          0.000000            0.000000   \n",
       "\n",
       "          dropoff_latitude dist_range  \n",
       "369311            0.000000        0.5  \n",
       "370860           40.758251        0.5  \n",
       "371439            0.000000        0.5  \n",
       "372784           40.758266        0.5  \n",
       "...                    ...        ...  \n",
       "1251842          40.758236        0.5  \n",
       "1251941          40.758244        0.5  \n",
       "1254924           0.000000        0.5  \n",
       "1258078           0.000000        0.5  \n",
       "\n",
       "[354 rows x 13 columns]"
      ]
     },
     "execution_count": 262,
     "metadata": {},
     "output_type": "execute_result"
    }
   ],
   "source": [
    "df.ix[df[' hack_license']=='7B19DE6D4D54999531BEB27F758F71F6']"
   ]
  },
  {
   "cell_type": "code",
   "execution_count": 267,
   "metadata": {
    "collapsed": false
   },
   "outputs": [
    {
     "data": {
      "text/html": [
       "<div>\n",
       "<table border=\"1\" class=\"dataframe\">\n",
       "  <thead>\n",
       "    <tr style=\"text-align: right;\">\n",
       "      <th></th>\n",
       "      <th>medallion</th>\n",
       "      <th>hack_license</th>\n",
       "      <th>rate_code</th>\n",
       "      <th>pickup_datetime</th>\n",
       "      <th>dropoff_datetime</th>\n",
       "      <th>passenger_count</th>\n",
       "      <th>trip_time_in_secs</th>\n",
       "      <th>trip_distance</th>\n",
       "      <th>pickup_longitude</th>\n",
       "      <th>pickup_latitude</th>\n",
       "      <th>dropoff_longitude</th>\n",
       "      <th>dropoff_latitude</th>\n",
       "      <th>dist_range</th>\n",
       "    </tr>\n",
       "  </thead>\n",
       "  <tbody>\n",
       "    <tr>\n",
       "      <th>615025</th>\n",
       "      <td>8D1BB91A5D5D7BE4BEDFF23F2DEFD026</td>\n",
       "      <td>4AF51CFB6625EF4B2F3D28F887831D0C</td>\n",
       "      <td>1</td>\n",
       "      <td>2013-08-06 20:59:00</td>\n",
       "      <td>2013-08-06 21:21:00</td>\n",
       "      <td>5</td>\n",
       "      <td>1320</td>\n",
       "      <td>6.09</td>\n",
       "      <td>-73.986565</td>\n",
       "      <td>0.0</td>\n",
       "      <td>-74.011543</td>\n",
       "      <td>40.708885</td>\n",
       "      <td>6.5</td>\n",
       "    </tr>\n",
       "    <tr>\n",
       "      <th>723667</th>\n",
       "      <td>566284B58F01B2795826A1EB2D3F0878</td>\n",
       "      <td>923F7DB16E1F81101C4C45A5918A2A2F</td>\n",
       "      <td>1</td>\n",
       "      <td>2013-08-08 09:21:00</td>\n",
       "      <td>2013-08-08 09:30:00</td>\n",
       "      <td>1</td>\n",
       "      <td>540</td>\n",
       "      <td>1.60</td>\n",
       "      <td>-73.966789</td>\n",
       "      <td>0.0</td>\n",
       "      <td>-73.979446</td>\n",
       "      <td>40.756065</td>\n",
       "      <td>2.0</td>\n",
       "    </tr>\n",
       "    <tr>\n",
       "      <th>756784</th>\n",
       "      <td>4EF7FFB140F99C849410B914939B4949</td>\n",
       "      <td>6826C6F899BC8E147099C30C1BAA9B8F</td>\n",
       "      <td>1</td>\n",
       "      <td>2013-08-08 12:50:00</td>\n",
       "      <td>2013-08-08 13:07:00</td>\n",
       "      <td>6</td>\n",
       "      <td>1020</td>\n",
       "      <td>7.16</td>\n",
       "      <td>-5.576667</td>\n",
       "      <td>0.0</td>\n",
       "      <td>0.000000</td>\n",
       "      <td>40.762001</td>\n",
       "      <td>7.5</td>\n",
       "    </tr>\n",
       "    <tr>\n",
       "      <th>911653</th>\n",
       "      <td>8C888A90058235542F37DFB4E8232E8A</td>\n",
       "      <td>DED82821229975847692EAD33528A8F1</td>\n",
       "      <td>1</td>\n",
       "      <td>2013-08-09 00:32:00</td>\n",
       "      <td>2013-08-09 00:45:00</td>\n",
       "      <td>1</td>\n",
       "      <td>780</td>\n",
       "      <td>3.20</td>\n",
       "      <td>-0.030000</td>\n",
       "      <td>0.0</td>\n",
       "      <td>-73.989204</td>\n",
       "      <td>40.748058</td>\n",
       "      <td>4.0</td>\n",
       "    </tr>\n",
       "    <tr>\n",
       "      <th>1178549</th>\n",
       "      <td>8C888A90058235542F37DFB4E8232E8A</td>\n",
       "      <td>DED82821229975847692EAD33528A8F1</td>\n",
       "      <td>1</td>\n",
       "      <td>2013-08-13 02:28:00</td>\n",
       "      <td>2013-08-13 02:41:00</td>\n",
       "      <td>1</td>\n",
       "      <td>780</td>\n",
       "      <td>5.11</td>\n",
       "      <td>-0.001667</td>\n",
       "      <td>0.0</td>\n",
       "      <td>-73.938103</td>\n",
       "      <td>40.758476</td>\n",
       "      <td>5.5</td>\n",
       "    </tr>\n",
       "  </tbody>\n",
       "</table>\n",
       "</div>"
      ],
      "text/plain": [
       "                                medallion                      hack_license  \\\n",
       "615025   8D1BB91A5D5D7BE4BEDFF23F2DEFD026  4AF51CFB6625EF4B2F3D28F887831D0C   \n",
       "723667   566284B58F01B2795826A1EB2D3F0878  923F7DB16E1F81101C4C45A5918A2A2F   \n",
       "756784   4EF7FFB140F99C849410B914939B4949  6826C6F899BC8E147099C30C1BAA9B8F   \n",
       "911653   8C888A90058235542F37DFB4E8232E8A  DED82821229975847692EAD33528A8F1   \n",
       "1178549  8C888A90058235542F37DFB4E8232E8A  DED82821229975847692EAD33528A8F1   \n",
       "\n",
       "          rate_code      pickup_datetime     dropoff_datetime  \\\n",
       "615025            1  2013-08-06 20:59:00  2013-08-06 21:21:00   \n",
       "723667            1  2013-08-08 09:21:00  2013-08-08 09:30:00   \n",
       "756784            1  2013-08-08 12:50:00  2013-08-08 13:07:00   \n",
       "911653            1  2013-08-09 00:32:00  2013-08-09 00:45:00   \n",
       "1178549           1  2013-08-13 02:28:00  2013-08-13 02:41:00   \n",
       "\n",
       "          passenger_count   trip_time_in_secs   trip_distance  \\\n",
       "615025                  5                1320            6.09   \n",
       "723667                  1                 540            1.60   \n",
       "756784                  6                1020            7.16   \n",
       "911653                  1                 780            3.20   \n",
       "1178549                 1                 780            5.11   \n",
       "\n",
       "          pickup_longitude   pickup_latitude   dropoff_longitude  \\\n",
       "615025          -73.986565               0.0          -74.011543   \n",
       "723667          -73.966789               0.0          -73.979446   \n",
       "756784           -5.576667               0.0            0.000000   \n",
       "911653           -0.030000               0.0          -73.989204   \n",
       "1178549          -0.001667               0.0          -73.938103   \n",
       "\n",
       "          dropoff_latitude dist_range  \n",
       "615025           40.708885        6.5  \n",
       "723667           40.756065        2.0  \n",
       "756784           40.762001        7.5  \n",
       "911653           40.748058        4.0  \n",
       "1178549          40.758476        5.5  "
      ]
     },
     "execution_count": 267,
     "metadata": {},
     "output_type": "execute_result"
    }
   ],
   "source": [
    "df.ix[(df[' pickup_latitude']==0) & (df[' pickup_longitude']!=0)]"
   ]
  },
  {
   "cell_type": "code",
   "execution_count": 268,
   "metadata": {
    "collapsed": false
   },
   "outputs": [
    {
     "data": {
      "text/plain": [
       "8699"
      ]
     },
     "execution_count": 268,
     "metadata": {},
     "output_type": "execute_result"
    }
   ],
   "source": [
    "len(df.ix[(df[' trip_distance']==0)])"
   ]
  },
  {
   "cell_type": "code",
   "execution_count": 271,
   "metadata": {
    "collapsed": false
   },
   "outputs": [
    {
     "data": {
      "text/html": [
       "<div>\n",
       "<table border=\"1\" class=\"dataframe\">\n",
       "  <thead>\n",
       "    <tr style=\"text-align: right;\">\n",
       "      <th></th>\n",
       "      <th>medallion</th>\n",
       "      <th>hack_license</th>\n",
       "      <th>rate_code</th>\n",
       "      <th>pickup_datetime</th>\n",
       "      <th>dropoff_datetime</th>\n",
       "      <th>passenger_count</th>\n",
       "      <th>trip_time_in_secs</th>\n",
       "      <th>trip_distance</th>\n",
       "      <th>pickup_longitude</th>\n",
       "      <th>pickup_latitude</th>\n",
       "      <th>dropoff_longitude</th>\n",
       "      <th>dropoff_latitude</th>\n",
       "      <th>dist_range</th>\n",
       "    </tr>\n",
       "  </thead>\n",
       "  <tbody>\n",
       "    <tr>\n",
       "      <th>148177</th>\n",
       "      <td>B30FB8B1B1878DFDC6688FAAAA81BF89</td>\n",
       "      <td>29888243C6F4D6A960B334855C53121B</td>\n",
       "      <td>5</td>\n",
       "      <td>2013-08-31 08:43:25</td>\n",
       "      <td>2013-08-31 09:27:06</td>\n",
       "      <td>1</td>\n",
       "      <td>4287947</td>\n",
       "      <td>0.0</td>\n",
       "      <td>-73.772118</td>\n",
       "      <td>41.030685</td>\n",
       "      <td>-73.777824</td>\n",
       "      <td>41.029865</td>\n",
       "      <td>0.5</td>\n",
       "    </tr>\n",
       "    <tr>\n",
       "      <th>301387</th>\n",
       "      <td>E11DF7327D10A3BC3C93A0E3A7F4DE7A</td>\n",
       "      <td>F4C08E5B30603FB8148A898BB8D30DA0</td>\n",
       "      <td>1</td>\n",
       "      <td>2013-08-31 23:45:44</td>\n",
       "      <td>2013-09-01 00:07:00</td>\n",
       "      <td>1</td>\n",
       "      <td>4283244</td>\n",
       "      <td>0.0</td>\n",
       "      <td>-73.977905</td>\n",
       "      <td>40.725559</td>\n",
       "      <td>-74.008278</td>\n",
       "      <td>40.736591</td>\n",
       "      <td>0.5</td>\n",
       "    </tr>\n",
       "    <tr>\n",
       "      <th>597506</th>\n",
       "      <td>1560E7C1453E7996A61C96B7A8824EFE</td>\n",
       "      <td>7B19DE6D4D54999531BEB27F758F71F6</td>\n",
       "      <td>1</td>\n",
       "      <td>2013-08-09 14:05:00</td>\n",
       "      <td>2013-08-10 10:59:00</td>\n",
       "      <td>1</td>\n",
       "      <td>75240</td>\n",
       "      <td>0.0</td>\n",
       "      <td>0.000000</td>\n",
       "      <td>0.000000</td>\n",
       "      <td>0.000000</td>\n",
       "      <td>0.000000</td>\n",
       "      <td>0.5</td>\n",
       "    </tr>\n",
       "    <tr>\n",
       "      <th>1239442</th>\n",
       "      <td>D39704A62CF63852EE31C1B66275E75D</td>\n",
       "      <td>7B19DE6D4D54999531BEB27F758F71F6</td>\n",
       "      <td>1</td>\n",
       "      <td>2013-08-12 17:14:00</td>\n",
       "      <td>2013-08-13 13:07:00</td>\n",
       "      <td>1</td>\n",
       "      <td>71580</td>\n",
       "      <td>0.0</td>\n",
       "      <td>0.000000</td>\n",
       "      <td>0.000000</td>\n",
       "      <td>0.000000</td>\n",
       "      <td>0.000000</td>\n",
       "      <td>0.5</td>\n",
       "    </tr>\n",
       "    <tr>\n",
       "      <th>...</th>\n",
       "      <td>...</td>\n",
       "      <td>...</td>\n",
       "      <td>...</td>\n",
       "      <td>...</td>\n",
       "      <td>...</td>\n",
       "      <td>...</td>\n",
       "      <td>...</td>\n",
       "      <td>...</td>\n",
       "      <td>...</td>\n",
       "      <td>...</td>\n",
       "      <td>...</td>\n",
       "      <td>...</td>\n",
       "      <td>...</td>\n",
       "    </tr>\n",
       "    <tr>\n",
       "      <th>473027</th>\n",
       "      <td>156DF7A073DD7F63E03CD4D1792F0B29</td>\n",
       "      <td>CFC77A93E69B09CBCE880E832080473E</td>\n",
       "      <td>1</td>\n",
       "      <td>2013-08-11 17:52:10</td>\n",
       "      <td>2013-08-11 17:52:00</td>\n",
       "      <td>6</td>\n",
       "      <td>-10</td>\n",
       "      <td>0.0</td>\n",
       "      <td>0.000000</td>\n",
       "      <td>0.000000</td>\n",
       "      <td>0.000000</td>\n",
       "      <td>0.000000</td>\n",
       "      <td>0.5</td>\n",
       "    </tr>\n",
       "    <tr>\n",
       "      <th>910717</th>\n",
       "      <td>2448B617F670608F520543E8137F0A53</td>\n",
       "      <td>B81298D7AFE3F080D8F9E03BA38CAE71</td>\n",
       "      <td>1</td>\n",
       "      <td>2013-08-09 00:24:10</td>\n",
       "      <td>2013-08-09 00:24:00</td>\n",
       "      <td>5</td>\n",
       "      <td>-10</td>\n",
       "      <td>0.0</td>\n",
       "      <td>-73.954750</td>\n",
       "      <td>40.734509</td>\n",
       "      <td>0.000000</td>\n",
       "      <td>0.000000</td>\n",
       "      <td>0.5</td>\n",
       "    </tr>\n",
       "    <tr>\n",
       "      <th>686077</th>\n",
       "      <td>14B6352E4AC7C4732A518085AF4253DD</td>\n",
       "      <td>A19CA52E8D354018EF2EE45EAF62F8EB</td>\n",
       "      <td>1</td>\n",
       "      <td>2013-08-07 23:34:10</td>\n",
       "      <td>2013-08-07 23:34:00</td>\n",
       "      <td>1</td>\n",
       "      <td>-10</td>\n",
       "      <td>0.0</td>\n",
       "      <td>0.000000</td>\n",
       "      <td>0.000000</td>\n",
       "      <td>0.000000</td>\n",
       "      <td>0.000000</td>\n",
       "      <td>0.5</td>\n",
       "    </tr>\n",
       "    <tr>\n",
       "      <th>997457</th>\n",
       "      <td>8E9B734B07B3F6DF25B6D910CC1C327B</td>\n",
       "      <td>AEABEA26F696B3993614046AA60CBFFB</td>\n",
       "      <td>1</td>\n",
       "      <td>2013-08-12 06:01:10</td>\n",
       "      <td>2013-08-12 06:01:00</td>\n",
       "      <td>1</td>\n",
       "      <td>-10</td>\n",
       "      <td>0.0</td>\n",
       "      <td>0.000000</td>\n",
       "      <td>0.000000</td>\n",
       "      <td>0.000000</td>\n",
       "      <td>0.000000</td>\n",
       "      <td>0.5</td>\n",
       "    </tr>\n",
       "  </tbody>\n",
       "</table>\n",
       "<p>5117 rows × 13 columns</p>\n",
       "</div>"
      ],
      "text/plain": [
       "                                medallion                      hack_license  \\\n",
       "148177   B30FB8B1B1878DFDC6688FAAAA81BF89  29888243C6F4D6A960B334855C53121B   \n",
       "301387   E11DF7327D10A3BC3C93A0E3A7F4DE7A  F4C08E5B30603FB8148A898BB8D30DA0   \n",
       "597506   1560E7C1453E7996A61C96B7A8824EFE  7B19DE6D4D54999531BEB27F758F71F6   \n",
       "1239442  D39704A62CF63852EE31C1B66275E75D  7B19DE6D4D54999531BEB27F758F71F6   \n",
       "...                                   ...                               ...   \n",
       "473027   156DF7A073DD7F63E03CD4D1792F0B29  CFC77A93E69B09CBCE880E832080473E   \n",
       "910717   2448B617F670608F520543E8137F0A53  B81298D7AFE3F080D8F9E03BA38CAE71   \n",
       "686077   14B6352E4AC7C4732A518085AF4253DD  A19CA52E8D354018EF2EE45EAF62F8EB   \n",
       "997457   8E9B734B07B3F6DF25B6D910CC1C327B  AEABEA26F696B3993614046AA60CBFFB   \n",
       "\n",
       "          rate_code      pickup_datetime     dropoff_datetime  \\\n",
       "148177            5  2013-08-31 08:43:25  2013-08-31 09:27:06   \n",
       "301387            1  2013-08-31 23:45:44  2013-09-01 00:07:00   \n",
       "597506            1  2013-08-09 14:05:00  2013-08-10 10:59:00   \n",
       "1239442           1  2013-08-12 17:14:00  2013-08-13 13:07:00   \n",
       "...             ...                  ...                  ...   \n",
       "473027            1  2013-08-11 17:52:10  2013-08-11 17:52:00   \n",
       "910717            1  2013-08-09 00:24:10  2013-08-09 00:24:00   \n",
       "686077            1  2013-08-07 23:34:10  2013-08-07 23:34:00   \n",
       "997457            1  2013-08-12 06:01:10  2013-08-12 06:01:00   \n",
       "\n",
       "          passenger_count   trip_time_in_secs   trip_distance  \\\n",
       "148177                  1             4287947             0.0   \n",
       "301387                  1             4283244             0.0   \n",
       "597506                  1               75240             0.0   \n",
       "1239442                 1               71580             0.0   \n",
       "...                   ...                 ...             ...   \n",
       "473027                  6                 -10             0.0   \n",
       "910717                  5                 -10             0.0   \n",
       "686077                  1                 -10             0.0   \n",
       "997457                  1                 -10             0.0   \n",
       "\n",
       "          pickup_longitude   pickup_latitude   dropoff_longitude  \\\n",
       "148177          -73.772118         41.030685          -73.777824   \n",
       "301387          -73.977905         40.725559          -74.008278   \n",
       "597506            0.000000          0.000000            0.000000   \n",
       "1239442           0.000000          0.000000            0.000000   \n",
       "...                    ...               ...                 ...   \n",
       "473027            0.000000          0.000000            0.000000   \n",
       "910717          -73.954750         40.734509            0.000000   \n",
       "686077            0.000000          0.000000            0.000000   \n",
       "997457            0.000000          0.000000            0.000000   \n",
       "\n",
       "          dropoff_latitude dist_range  \n",
       "148177           41.029865        0.5  \n",
       "301387           40.736591        0.5  \n",
       "597506            0.000000        0.5  \n",
       "1239442           0.000000        0.5  \n",
       "...                    ...        ...  \n",
       "473027            0.000000        0.5  \n",
       "910717            0.000000        0.5  \n",
       "686077            0.000000        0.5  \n",
       "997457            0.000000        0.5  \n",
       "\n",
       "[5117 rows x 13 columns]"
      ]
     },
     "execution_count": 271,
     "metadata": {},
     "output_type": "execute_result"
    }
   ],
   "source": [
    "df.ix[(df[' trip_distance']==0) & (df[' trip_time_in_secs']!=0)].sort(columns=' trip_time_in_secs', ascending=False)"
   ]
  }
 ],
 "metadata": {
  "anaconda-cloud": {},
  "kernelspec": {
   "display_name": "Python [conda root]",
   "language": "python",
   "name": "conda-root-py"
  },
  "language_info": {
   "codemirror_mode": {
    "name": "ipython",
    "version": 3
   },
   "file_extension": ".py",
   "mimetype": "text/x-python",
   "name": "python",
   "nbconvert_exporter": "python",
   "pygments_lexer": "ipython3",
   "version": "3.5.2"
  }
 },
 "nbformat": 4,
 "nbformat_minor": 1
}
